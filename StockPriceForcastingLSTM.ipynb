{
  "nbformat": 4,
  "nbformat_minor": 0,
  "metadata": {
    "colab": {
      "name": "StockPriceForcastingLSTM.ipynb",
      "provenance": [],
      "authorship_tag": "ABX9TyM+yy/Zf1nZzZlqQrWjuGXl",
      "include_colab_link": true
    },
    "kernelspec": {
      "name": "python3",
      "display_name": "Python 3"
    },
    "language_info": {
      "name": "python"
    }
  },
  "cells": [
    {
      "cell_type": "markdown",
      "metadata": {
        "id": "view-in-github",
        "colab_type": "text"
      },
      "source": [
        "<a href=\"https://colab.research.google.com/github/TithiSreemany/Stock-Price-Forcasting-using-LSTM/blob/main/StockPriceForcastingLSTM.ipynb\" target=\"_parent\"><img src=\"https://colab.research.google.com/assets/colab-badge.svg\" alt=\"Open In Colab\"/></a>"
      ]
    },
    {
      "cell_type": "markdown",
      "source": [
        "#**Stock Price Forcasting LSTM**\n",
        "\n"
      ],
      "metadata": {
        "id": "B8oXkWHnizqU"
      }
    },
    {
      "cell_type": "markdown",
      "source": [
        "### Importing Libraries"
      ],
      "metadata": {
        "id": "BHpGNGkAiyoK"
      }
    },
    {
      "cell_type": "code",
      "execution_count": 2,
      "metadata": {
        "id": "--q71ECeii_N"
      },
      "outputs": [],
      "source": [
        "import pandas as pd\n",
        "import numpy as np\n",
        "import matplotlib.pyplot as plt\n",
        "import tensorflow as tf\n",
        "from tensorflow.keras.models import Sequential\n",
        "from tensorflow.keras.layers import Dense\n",
        "from tensorflow.keras.layers import LSTM\n",
        "import math\n",
        "from sklearn.metrics import mean_squared_error"
      ]
    },
    {
      "cell_type": "code",
      "source": [
        "!pip install sklearn"
      ],
      "metadata": {
        "colab": {
          "base_uri": "https://localhost:8080/"
        },
        "id": "k6QERlMmnPLl",
        "outputId": "d8aa478f-601c-4925-e3d5-80e4e1afa69b"
      },
      "execution_count": 16,
      "outputs": [
        {
          "output_type": "stream",
          "name": "stdout",
          "text": [
            "Requirement already satisfied: sklearn in /usr/local/lib/python3.7/dist-packages (0.0)\n",
            "Requirement already satisfied: scikit-learn in /usr/local/lib/python3.7/dist-packages (from sklearn) (1.0.2)\n",
            "Requirement already satisfied: threadpoolctl>=2.0.0 in /usr/local/lib/python3.7/dist-packages (from scikit-learn->sklearn) (3.1.0)\n",
            "Requirement already satisfied: joblib>=0.11 in /usr/local/lib/python3.7/dist-packages (from scikit-learn->sklearn) (1.1.0)\n",
            "Requirement already satisfied: scipy>=1.1.0 in /usr/local/lib/python3.7/dist-packages (from scikit-learn->sklearn) (1.4.1)\n",
            "Requirement already satisfied: numpy>=1.14.6 in /usr/local/lib/python3.7/dist-packages (from scikit-learn->sklearn) (1.21.6)\n"
          ]
        }
      ]
    },
    {
      "cell_type": "markdown",
      "source": [
        "### Loading the Dataset"
      ],
      "metadata": {
        "id": "86IzcOoO-ofC"
      }
    },
    {
      "cell_type": "code",
      "source": [
        "df=pd.read_csv('NSE-Tata-Global-Beverages-Limited.csv')"
      ],
      "metadata": {
        "id": "lKa-UrC6ltI7"
      },
      "execution_count": 3,
      "outputs": []
    },
    {
      "cell_type": "code",
      "source": [
        "df = df.sort_values(by=\"Date\")"
      ],
      "metadata": {
        "id": "Q0mnQ0a_mSfd"
      },
      "execution_count": 6,
      "outputs": []
    },
    {
      "cell_type": "code",
      "source": [
        "df.head()"
      ],
      "metadata": {
        "colab": {
          "base_uri": "https://localhost:8080/",
          "height": 206
        },
        "id": "XRVc5FTal9yL",
        "outputId": "74ced6b3-a61b-4c69-fc40-6f0b94c0eca6"
      },
      "execution_count": 7,
      "outputs": [
        {
          "output_type": "execute_result",
          "data": {
            "text/plain": [
              "            Date    Open    High     Low   Last   Close  Total Trade Quantity  \\\n",
              "1234  2013-10-08  157.00  157.80  155.20  155.8  155.80             1720413.0   \n",
              "1233  2013-10-09  155.70  158.20  154.15  155.3  155.55             2049580.0   \n",
              "1232  2013-10-10  156.00  160.80  155.85  160.3  160.15             3124853.0   \n",
              "1231  2013-10-11  161.15  163.45  159.00  159.8  160.05             1880046.0   \n",
              "1230  2013-10-14  160.85  161.45  157.70  159.3  159.45             1281419.0   \n",
              "\n",
              "      Turnover (Lacs)  \n",
              "1234          2688.94  \n",
              "1233          3204.49  \n",
              "1232          4978.80  \n",
              "1231          3030.76  \n",
              "1230          2039.09  "
            ],
            "text/html": [
              "\n",
              "  <div id=\"df-93bfc1b0-002a-4bba-9e59-dfc899d6dbc2\">\n",
              "    <div class=\"colab-df-container\">\n",
              "      <div>\n",
              "<style scoped>\n",
              "    .dataframe tbody tr th:only-of-type {\n",
              "        vertical-align: middle;\n",
              "    }\n",
              "\n",
              "    .dataframe tbody tr th {\n",
              "        vertical-align: top;\n",
              "    }\n",
              "\n",
              "    .dataframe thead th {\n",
              "        text-align: right;\n",
              "    }\n",
              "</style>\n",
              "<table border=\"1\" class=\"dataframe\">\n",
              "  <thead>\n",
              "    <tr style=\"text-align: right;\">\n",
              "      <th></th>\n",
              "      <th>Date</th>\n",
              "      <th>Open</th>\n",
              "      <th>High</th>\n",
              "      <th>Low</th>\n",
              "      <th>Last</th>\n",
              "      <th>Close</th>\n",
              "      <th>Total Trade Quantity</th>\n",
              "      <th>Turnover (Lacs)</th>\n",
              "    </tr>\n",
              "  </thead>\n",
              "  <tbody>\n",
              "    <tr>\n",
              "      <th>1234</th>\n",
              "      <td>2013-10-08</td>\n",
              "      <td>157.00</td>\n",
              "      <td>157.80</td>\n",
              "      <td>155.20</td>\n",
              "      <td>155.8</td>\n",
              "      <td>155.80</td>\n",
              "      <td>1720413.0</td>\n",
              "      <td>2688.94</td>\n",
              "    </tr>\n",
              "    <tr>\n",
              "      <th>1233</th>\n",
              "      <td>2013-10-09</td>\n",
              "      <td>155.70</td>\n",
              "      <td>158.20</td>\n",
              "      <td>154.15</td>\n",
              "      <td>155.3</td>\n",
              "      <td>155.55</td>\n",
              "      <td>2049580.0</td>\n",
              "      <td>3204.49</td>\n",
              "    </tr>\n",
              "    <tr>\n",
              "      <th>1232</th>\n",
              "      <td>2013-10-10</td>\n",
              "      <td>156.00</td>\n",
              "      <td>160.80</td>\n",
              "      <td>155.85</td>\n",
              "      <td>160.3</td>\n",
              "      <td>160.15</td>\n",
              "      <td>3124853.0</td>\n",
              "      <td>4978.80</td>\n",
              "    </tr>\n",
              "    <tr>\n",
              "      <th>1231</th>\n",
              "      <td>2013-10-11</td>\n",
              "      <td>161.15</td>\n",
              "      <td>163.45</td>\n",
              "      <td>159.00</td>\n",
              "      <td>159.8</td>\n",
              "      <td>160.05</td>\n",
              "      <td>1880046.0</td>\n",
              "      <td>3030.76</td>\n",
              "    </tr>\n",
              "    <tr>\n",
              "      <th>1230</th>\n",
              "      <td>2013-10-14</td>\n",
              "      <td>160.85</td>\n",
              "      <td>161.45</td>\n",
              "      <td>157.70</td>\n",
              "      <td>159.3</td>\n",
              "      <td>159.45</td>\n",
              "      <td>1281419.0</td>\n",
              "      <td>2039.09</td>\n",
              "    </tr>\n",
              "  </tbody>\n",
              "</table>\n",
              "</div>\n",
              "      <button class=\"colab-df-convert\" onclick=\"convertToInteractive('df-93bfc1b0-002a-4bba-9e59-dfc899d6dbc2')\"\n",
              "              title=\"Convert this dataframe to an interactive table.\"\n",
              "              style=\"display:none;\">\n",
              "        \n",
              "  <svg xmlns=\"http://www.w3.org/2000/svg\" height=\"24px\"viewBox=\"0 0 24 24\"\n",
              "       width=\"24px\">\n",
              "    <path d=\"M0 0h24v24H0V0z\" fill=\"none\"/>\n",
              "    <path d=\"M18.56 5.44l.94 2.06.94-2.06 2.06-.94-2.06-.94-.94-2.06-.94 2.06-2.06.94zm-11 1L8.5 8.5l.94-2.06 2.06-.94-2.06-.94L8.5 2.5l-.94 2.06-2.06.94zm10 10l.94 2.06.94-2.06 2.06-.94-2.06-.94-.94-2.06-.94 2.06-2.06.94z\"/><path d=\"M17.41 7.96l-1.37-1.37c-.4-.4-.92-.59-1.43-.59-.52 0-1.04.2-1.43.59L10.3 9.45l-7.72 7.72c-.78.78-.78 2.05 0 2.83L4 21.41c.39.39.9.59 1.41.59.51 0 1.02-.2 1.41-.59l7.78-7.78 2.81-2.81c.8-.78.8-2.07 0-2.86zM5.41 20L4 18.59l7.72-7.72 1.47 1.35L5.41 20z\"/>\n",
              "  </svg>\n",
              "      </button>\n",
              "      \n",
              "  <style>\n",
              "    .colab-df-container {\n",
              "      display:flex;\n",
              "      flex-wrap:wrap;\n",
              "      gap: 12px;\n",
              "    }\n",
              "\n",
              "    .colab-df-convert {\n",
              "      background-color: #E8F0FE;\n",
              "      border: none;\n",
              "      border-radius: 50%;\n",
              "      cursor: pointer;\n",
              "      display: none;\n",
              "      fill: #1967D2;\n",
              "      height: 32px;\n",
              "      padding: 0 0 0 0;\n",
              "      width: 32px;\n",
              "    }\n",
              "\n",
              "    .colab-df-convert:hover {\n",
              "      background-color: #E2EBFA;\n",
              "      box-shadow: 0px 1px 2px rgba(60, 64, 67, 0.3), 0px 1px 3px 1px rgba(60, 64, 67, 0.15);\n",
              "      fill: #174EA6;\n",
              "    }\n",
              "\n",
              "    [theme=dark] .colab-df-convert {\n",
              "      background-color: #3B4455;\n",
              "      fill: #D2E3FC;\n",
              "    }\n",
              "\n",
              "    [theme=dark] .colab-df-convert:hover {\n",
              "      background-color: #434B5C;\n",
              "      box-shadow: 0px 1px 3px 1px rgba(0, 0, 0, 0.15);\n",
              "      filter: drop-shadow(0px 1px 2px rgba(0, 0, 0, 0.3));\n",
              "      fill: #FFFFFF;\n",
              "    }\n",
              "  </style>\n",
              "\n",
              "      <script>\n",
              "        const buttonEl =\n",
              "          document.querySelector('#df-93bfc1b0-002a-4bba-9e59-dfc899d6dbc2 button.colab-df-convert');\n",
              "        buttonEl.style.display =\n",
              "          google.colab.kernel.accessAllowed ? 'block' : 'none';\n",
              "\n",
              "        async function convertToInteractive(key) {\n",
              "          const element = document.querySelector('#df-93bfc1b0-002a-4bba-9e59-dfc899d6dbc2');\n",
              "          const dataTable =\n",
              "            await google.colab.kernel.invokeFunction('convertToInteractive',\n",
              "                                                     [key], {});\n",
              "          if (!dataTable) return;\n",
              "\n",
              "          const docLinkHtml = 'Like what you see? Visit the ' +\n",
              "            '<a target=\"_blank\" href=https://colab.research.google.com/notebooks/data_table.ipynb>data table notebook</a>'\n",
              "            + ' to learn more about interactive tables.';\n",
              "          element.innerHTML = '';\n",
              "          dataTable['output_type'] = 'display_data';\n",
              "          await google.colab.output.renderOutput(dataTable, element);\n",
              "          const docLink = document.createElement('div');\n",
              "          docLink.innerHTML = docLinkHtml;\n",
              "          element.appendChild(docLink);\n",
              "        }\n",
              "      </script>\n",
              "    </div>\n",
              "  </div>\n",
              "  "
            ]
          },
          "metadata": {},
          "execution_count": 7
        }
      ]
    },
    {
      "cell_type": "code",
      "source": [
        "df.tail()"
      ],
      "metadata": {
        "colab": {
          "base_uri": "https://localhost:8080/",
          "height": 206
        },
        "id": "qZwxtes3mEWk",
        "outputId": "e9c6f9e6-123d-4e2b-d242-c799ed224083"
      },
      "execution_count": 8,
      "outputs": [
        {
          "output_type": "execute_result",
          "data": {
            "text/plain": [
              "         Date    Open    High     Low    Last   Close  Total Trade Quantity  \\\n",
              "4  2018-10-01  234.55  234.60  221.05  230.30  230.90             1534749.0   \n",
              "3  2018-10-03  230.00  237.50  225.75  226.45  227.60             1708590.0   \n",
              "2  2018-10-04  223.50  227.80  216.15  217.25  218.20             1728786.0   \n",
              "1  2018-10-05  217.00  218.60  205.90  210.25  209.20             3519515.0   \n",
              "0  2018-10-08  208.00  222.25  206.85  216.00  215.15             4642146.0   \n",
              "\n",
              "   Turnover (Lacs)  \n",
              "4          3486.05  \n",
              "3          3960.27  \n",
              "2          3815.79  \n",
              "1          7407.06  \n",
              "0         10062.83  "
            ],
            "text/html": [
              "\n",
              "  <div id=\"df-7dbc1e02-5d6d-4060-94aa-2d49e02c9b3a\">\n",
              "    <div class=\"colab-df-container\">\n",
              "      <div>\n",
              "<style scoped>\n",
              "    .dataframe tbody tr th:only-of-type {\n",
              "        vertical-align: middle;\n",
              "    }\n",
              "\n",
              "    .dataframe tbody tr th {\n",
              "        vertical-align: top;\n",
              "    }\n",
              "\n",
              "    .dataframe thead th {\n",
              "        text-align: right;\n",
              "    }\n",
              "</style>\n",
              "<table border=\"1\" class=\"dataframe\">\n",
              "  <thead>\n",
              "    <tr style=\"text-align: right;\">\n",
              "      <th></th>\n",
              "      <th>Date</th>\n",
              "      <th>Open</th>\n",
              "      <th>High</th>\n",
              "      <th>Low</th>\n",
              "      <th>Last</th>\n",
              "      <th>Close</th>\n",
              "      <th>Total Trade Quantity</th>\n",
              "      <th>Turnover (Lacs)</th>\n",
              "    </tr>\n",
              "  </thead>\n",
              "  <tbody>\n",
              "    <tr>\n",
              "      <th>4</th>\n",
              "      <td>2018-10-01</td>\n",
              "      <td>234.55</td>\n",
              "      <td>234.60</td>\n",
              "      <td>221.05</td>\n",
              "      <td>230.30</td>\n",
              "      <td>230.90</td>\n",
              "      <td>1534749.0</td>\n",
              "      <td>3486.05</td>\n",
              "    </tr>\n",
              "    <tr>\n",
              "      <th>3</th>\n",
              "      <td>2018-10-03</td>\n",
              "      <td>230.00</td>\n",
              "      <td>237.50</td>\n",
              "      <td>225.75</td>\n",
              "      <td>226.45</td>\n",
              "      <td>227.60</td>\n",
              "      <td>1708590.0</td>\n",
              "      <td>3960.27</td>\n",
              "    </tr>\n",
              "    <tr>\n",
              "      <th>2</th>\n",
              "      <td>2018-10-04</td>\n",
              "      <td>223.50</td>\n",
              "      <td>227.80</td>\n",
              "      <td>216.15</td>\n",
              "      <td>217.25</td>\n",
              "      <td>218.20</td>\n",
              "      <td>1728786.0</td>\n",
              "      <td>3815.79</td>\n",
              "    </tr>\n",
              "    <tr>\n",
              "      <th>1</th>\n",
              "      <td>2018-10-05</td>\n",
              "      <td>217.00</td>\n",
              "      <td>218.60</td>\n",
              "      <td>205.90</td>\n",
              "      <td>210.25</td>\n",
              "      <td>209.20</td>\n",
              "      <td>3519515.0</td>\n",
              "      <td>7407.06</td>\n",
              "    </tr>\n",
              "    <tr>\n",
              "      <th>0</th>\n",
              "      <td>2018-10-08</td>\n",
              "      <td>208.00</td>\n",
              "      <td>222.25</td>\n",
              "      <td>206.85</td>\n",
              "      <td>216.00</td>\n",
              "      <td>215.15</td>\n",
              "      <td>4642146.0</td>\n",
              "      <td>10062.83</td>\n",
              "    </tr>\n",
              "  </tbody>\n",
              "</table>\n",
              "</div>\n",
              "      <button class=\"colab-df-convert\" onclick=\"convertToInteractive('df-7dbc1e02-5d6d-4060-94aa-2d49e02c9b3a')\"\n",
              "              title=\"Convert this dataframe to an interactive table.\"\n",
              "              style=\"display:none;\">\n",
              "        \n",
              "  <svg xmlns=\"http://www.w3.org/2000/svg\" height=\"24px\"viewBox=\"0 0 24 24\"\n",
              "       width=\"24px\">\n",
              "    <path d=\"M0 0h24v24H0V0z\" fill=\"none\"/>\n",
              "    <path d=\"M18.56 5.44l.94 2.06.94-2.06 2.06-.94-2.06-.94-.94-2.06-.94 2.06-2.06.94zm-11 1L8.5 8.5l.94-2.06 2.06-.94-2.06-.94L8.5 2.5l-.94 2.06-2.06.94zm10 10l.94 2.06.94-2.06 2.06-.94-2.06-.94-.94-2.06-.94 2.06-2.06.94z\"/><path d=\"M17.41 7.96l-1.37-1.37c-.4-.4-.92-.59-1.43-.59-.52 0-1.04.2-1.43.59L10.3 9.45l-7.72 7.72c-.78.78-.78 2.05 0 2.83L4 21.41c.39.39.9.59 1.41.59.51 0 1.02-.2 1.41-.59l7.78-7.78 2.81-2.81c.8-.78.8-2.07 0-2.86zM5.41 20L4 18.59l7.72-7.72 1.47 1.35L5.41 20z\"/>\n",
              "  </svg>\n",
              "      </button>\n",
              "      \n",
              "  <style>\n",
              "    .colab-df-container {\n",
              "      display:flex;\n",
              "      flex-wrap:wrap;\n",
              "      gap: 12px;\n",
              "    }\n",
              "\n",
              "    .colab-df-convert {\n",
              "      background-color: #E8F0FE;\n",
              "      border: none;\n",
              "      border-radius: 50%;\n",
              "      cursor: pointer;\n",
              "      display: none;\n",
              "      fill: #1967D2;\n",
              "      height: 32px;\n",
              "      padding: 0 0 0 0;\n",
              "      width: 32px;\n",
              "    }\n",
              "\n",
              "    .colab-df-convert:hover {\n",
              "      background-color: #E2EBFA;\n",
              "      box-shadow: 0px 1px 2px rgba(60, 64, 67, 0.3), 0px 1px 3px 1px rgba(60, 64, 67, 0.15);\n",
              "      fill: #174EA6;\n",
              "    }\n",
              "\n",
              "    [theme=dark] .colab-df-convert {\n",
              "      background-color: #3B4455;\n",
              "      fill: #D2E3FC;\n",
              "    }\n",
              "\n",
              "    [theme=dark] .colab-df-convert:hover {\n",
              "      background-color: #434B5C;\n",
              "      box-shadow: 0px 1px 3px 1px rgba(0, 0, 0, 0.15);\n",
              "      filter: drop-shadow(0px 1px 2px rgba(0, 0, 0, 0.3));\n",
              "      fill: #FFFFFF;\n",
              "    }\n",
              "  </style>\n",
              "\n",
              "      <script>\n",
              "        const buttonEl =\n",
              "          document.querySelector('#df-7dbc1e02-5d6d-4060-94aa-2d49e02c9b3a button.colab-df-convert');\n",
              "        buttonEl.style.display =\n",
              "          google.colab.kernel.accessAllowed ? 'block' : 'none';\n",
              "\n",
              "        async function convertToInteractive(key) {\n",
              "          const element = document.querySelector('#df-7dbc1e02-5d6d-4060-94aa-2d49e02c9b3a');\n",
              "          const dataTable =\n",
              "            await google.colab.kernel.invokeFunction('convertToInteractive',\n",
              "                                                     [key], {});\n",
              "          if (!dataTable) return;\n",
              "\n",
              "          const docLinkHtml = 'Like what you see? Visit the ' +\n",
              "            '<a target=\"_blank\" href=https://colab.research.google.com/notebooks/data_table.ipynb>data table notebook</a>'\n",
              "            + ' to learn more about interactive tables.';\n",
              "          element.innerHTML = '';\n",
              "          dataTable['output_type'] = 'display_data';\n",
              "          await google.colab.output.renderOutput(dataTable, element);\n",
              "          const docLink = document.createElement('div');\n",
              "          docLink.innerHTML = docLinkHtml;\n",
              "          element.appendChild(docLink);\n",
              "        }\n",
              "      </script>\n",
              "    </div>\n",
              "  </div>\n",
              "  "
            ]
          },
          "metadata": {},
          "execution_count": 8
        }
      ]
    },
    {
      "cell_type": "code",
      "source": [
        "df1=df.reset_index()['Close']"
      ],
      "metadata": {
        "id": "LzKeWcOsmjgw"
      },
      "execution_count": 9,
      "outputs": []
    },
    {
      "cell_type": "code",
      "source": [
        "df1"
      ],
      "metadata": {
        "colab": {
          "base_uri": "https://localhost:8080/"
        },
        "id": "IJbJ4nyfmqnA",
        "outputId": "c36d09aa-d0ad-4909-fa22-a898e2e5ae36"
      },
      "execution_count": 10,
      "outputs": [
        {
          "output_type": "execute_result",
          "data": {
            "text/plain": [
              "0       155.80\n",
              "1       155.55\n",
              "2       160.15\n",
              "3       160.05\n",
              "4       159.45\n",
              "         ...  \n",
              "1230    230.90\n",
              "1231    227.60\n",
              "1232    218.20\n",
              "1233    209.20\n",
              "1234    215.15\n",
              "Name: Close, Length: 1235, dtype: float64"
            ]
          },
          "metadata": {},
          "execution_count": 10
        }
      ]
    },
    {
      "cell_type": "code",
      "source": [
        "plt.plot(df1)"
      ],
      "metadata": {
        "colab": {
          "base_uri": "https://localhost:8080/",
          "height": 282
        },
        "id": "C9AUrHpqmqun",
        "outputId": "7a72159f-09b5-427a-c9b2-f11f6cdbe51f"
      },
      "execution_count": 11,
      "outputs": [
        {
          "output_type": "execute_result",
          "data": {
            "text/plain": [
              "[<matplotlib.lines.Line2D at 0x7f88b0349cd0>]"
            ]
          },
          "metadata": {},
          "execution_count": 11
        },
        {
          "output_type": "display_data",
          "data": {
            "text/plain": [
              "<Figure size 432x288 with 1 Axes>"
            ],
            "image/png": "[encoded data removed]"
          },
          "metadata": {
            "needs_background": "light"
          }
        }
      ]
    },
    {
      "cell_type": "markdown",
      "source": [
        "### Scaling the data"
      ],
      "metadata": {
        "id": "2XDCdliq-v3I"
      }
    },
    {
      "cell_type": "code",
      "source": [
        "#Scaling the dataset\n",
        "from sklearn.preprocessing import MinMaxScaler\n",
        "scaler=MinMaxScaler(feature_range=(0,1))\n",
        "df1=scaler.fit_transform(np.array(df1).reshape(-1,1))"
      ],
      "metadata": {
        "id": "8wbxRJQamq1C"
      },
      "execution_count": 20,
      "outputs": []
    },
    {
      "cell_type": "code",
      "source": [
        "print(df1)"
      ],
      "metadata": {
        "colab": {
          "base_uri": "https://localhost:8080/"
        },
        "id": "j4akcZxnnr5_",
        "outputId": "1c5395ef-2568-4076-e03d-a536a883bd39"
      },
      "execution_count": 21,
      "outputs": [
        {
          "output_type": "stream",
          "name": "stdout",
          "text": [
            "[[0.23823398]\n",
            " [0.2371134 ]\n",
            " [0.25773196]\n",
            " ...\n",
            " [0.51792918]\n",
            " [0.47758853]\n",
            " [0.50425818]]\n"
          ]
        }
      ]
    },
    {
      "cell_type": "markdown",
      "source": [
        "### Splitting the dataset into training and test set"
      ],
      "metadata": {
        "id": "V9BFNKueoBlS"
      }
    },
    {
      "cell_type": "code",
      "source": [
        "training_size=int(len(df1)*0.65)\n",
        "test_size=len(df1)-training_size\n",
        "train_data,test_data=df1[0:training_size,:],df1[training_size:len(df1),:1]"
      ],
      "metadata": {
        "id": "3SGyADUom7l6"
      },
      "execution_count": 22,
      "outputs": []
    },
    {
      "cell_type": "code",
      "source": [
        "training_size,test_size"
      ],
      "metadata": {
        "colab": {
          "base_uri": "https://localhost:8080/"
        },
        "id": "PFx8RC7soPQC",
        "outputId": "ce16afa3-83db-4064-a1c9-6912cf0f2b30"
      },
      "execution_count": 23,
      "outputs": [
        {
          "output_type": "execute_result",
          "data": {
            "text/plain": [
              "(802, 433)"
            ]
          },
          "metadata": {},
          "execution_count": 23
        }
      ]
    },
    {
      "cell_type": "markdown",
      "source": [
        "### Preprocessing the training and test data "
      ],
      "metadata": {
        "id": "-fJRwJYXog_I"
      }
    },
    {
      "cell_type": "code",
      "source": [
        "import numpy\n",
        "def create_dataset(dataset, time_step=1):\n",
        "\tdataX, dataY = [], []\n",
        "\tfor i in range(len(dataset)-time_step-1):\n",
        "\t\ta = dataset[i:(i+time_step), 0]   ###i=0, 0,1,2,3-----99   100 \n",
        "\t\tdataX.append(a)\n",
        "\t\tdataY.append(dataset[i + time_step, 0])\n",
        "\treturn numpy.array(dataX), numpy.array(dataY)"
      ],
      "metadata": {
        "id": "fz513YF0oT-I"
      },
      "execution_count": 26,
      "outputs": []
    },
    {
      "cell_type": "code",
      "source": [
        "time_step = 100\n",
        "X_train, y_train = create_dataset(train_data, time_step)\n",
        "X_test, ytest = create_dataset(test_data, time_step)"
      ],
      "metadata": {
        "id": "emfv23W9osGE"
      },
      "execution_count": 27,
      "outputs": []
    },
    {
      "cell_type": "code",
      "source": [
        "print(X_train.shape), print(y_train.shape)\n",
        "#Format (no of records, 100 timestamps)"
      ],
      "metadata": {
        "colab": {
          "base_uri": "https://localhost:8080/"
        },
        "id": "LHRpuegHo3Js",
        "outputId": "7893826a-344c-4b67-81b9-00cf70fee9f5"
      },
      "execution_count": 28,
      "outputs": [
        {
          "output_type": "stream",
          "name": "stdout",
          "text": [
            "(701, 100)\n",
            "(701,)\n"
          ]
        },
        {
          "output_type": "execute_result",
          "data": {
            "text/plain": [
              "(None, None)"
            ]
          },
          "metadata": {},
          "execution_count": 28
        }
      ]
    },
    {
      "cell_type": "code",
      "source": [
        "print(X_test.shape), print(ytest.shape)"
      ],
      "metadata": {
        "colab": {
          "base_uri": "https://localhost:8080/"
        },
        "id": "TYWgLvryo8b3",
        "outputId": "abaf8ec3-e50d-4c42-a95a-cee27950ae48"
      },
      "execution_count": 29,
      "outputs": [
        {
          "output_type": "stream",
          "name": "stdout",
          "text": [
            "(332, 100)\n",
            "(332,)\n"
          ]
        },
        {
          "output_type": "execute_result",
          "data": {
            "text/plain": [
              "(None, None)"
            ]
          },
          "metadata": {},
          "execution_count": 29
        }
      ]
    },
    {
      "cell_type": "code",
      "source": [
        "# reshape input into a 3 dimentional array of the format [samples, time steps, features] which is required for LSTM\n",
        "X_train =X_train.reshape(X_train.shape[0],X_train.shape[1] , 1)\n",
        "X_test = X_test.reshape(X_test.shape[0],X_test.shape[1] , 1)"
      ],
      "metadata": {
        "id": "1tEpaEJ0o8f7"
      },
      "execution_count": 30,
      "outputs": []
    },
    {
      "cell_type": "markdown",
      "source": [
        "### Creating a Stacked LSTM"
      ],
      "metadata": {
        "id": "0TwOpvePp0hI"
      }
    },
    {
      "cell_type": "code",
      "source": [
        "model=Sequential()\n",
        "model.add(LSTM(50,return_sequences=True,input_shape=(100,1)))\n",
        "model.add(LSTM(50,return_sequences=True))\n",
        "model.add(LSTM(50))\n",
        "model.add(Dense(1))\n",
        "model.compile(loss='mean_squared_error',optimizer='adam')"
      ],
      "metadata": {
        "id": "8b43r89go8kY"
      },
      "execution_count": 31,
      "outputs": []
    },
    {
      "cell_type": "code",
      "source": [
        "model.summary()"
      ],
      "metadata": {
        "colab": {
          "base_uri": "https://localhost:8080/"
        },
        "id": "7RLkK0w1o8n7",
        "outputId": "7a933779-301e-448a-fdce-6055cf169c06"
      },
      "execution_count": 32,
      "outputs": [
        {
          "output_type": "stream",
          "name": "stdout",
          "text": [
            "Model: \"sequential\"\n",
            "_________________________________________________________________\n",
            " Layer (type)                Output Shape              Param #   \n",
            "=================================================================\n",
            " lstm (LSTM)                 (None, 100, 50)           10400     \n",
            "                                                                 \n",
            " lstm_1 (LSTM)               (None, 100, 50)           20200     \n",
            "                                                                 \n",
            " lstm_2 (LSTM)               (None, 50)                20200     \n",
            "                                                                 \n",
            " dense (Dense)               (None, 1)                 51        \n",
            "                                                                 \n",
            "=================================================================\n",
            "Total params: 50,851\n",
            "Trainable params: 50,851\n",
            "Non-trainable params: 0\n",
            "_________________________________________________________________\n"
          ]
        }
      ]
    },
    {
      "cell_type": "code",
      "source": [
        "model.fit(X_train,y_train,validation_data=(X_test,ytest),epochs=100,batch_size=64,verbose=1)"
      ],
      "metadata": {
        "colab": {
          "base_uri": "https://localhost:8080/"
        },
        "id": "UV8WEzaFqO1C",
        "outputId": "e44753f9-fa5e-4d6f-b6e8-ed6194acf03f"
      },
      "execution_count": 33,
      "outputs": [
        {
          "output_type": "stream",
          "name": "stdout",
          "text": [
            "Epoch 1/100\n",
            "11/11 [==============================] - 9s 307ms/step - loss: 0.0099 - val_loss: 0.1012\n",
            "Epoch 2/100\n",
            "11/11 [==============================] - 2s 187ms/step - loss: 0.0029 - val_loss: 0.0519\n",
            "Epoch 3/100\n",
            "11/11 [==============================] - 2s 185ms/step - loss: 0.0022 - val_loss: 0.0675\n",
            "Epoch 4/100\n",
            "11/11 [==============================] - 2s 186ms/step - loss: 0.0014 - val_loss: 0.0197\n",
            "Epoch 5/100\n",
            "11/11 [==============================] - 2s 187ms/step - loss: 0.0010 - val_loss: 0.0056\n",
            "Epoch 6/100\n",
            "11/11 [==============================] - 2s 186ms/step - loss: 9.4152e-04 - val_loss: 0.0048\n",
            "Epoch 7/100\n",
            "11/11 [==============================] - 2s 185ms/step - loss: 9.1533e-04 - val_loss: 0.0048\n",
            "Epoch 8/100\n",
            "11/11 [==============================] - 2s 184ms/step - loss: 8.9600e-04 - val_loss: 0.0068\n",
            "Epoch 9/100\n",
            "11/11 [==============================] - 2s 188ms/step - loss: 8.6506e-04 - val_loss: 0.0057\n",
            "Epoch 10/100\n",
            "11/11 [==============================] - 2s 186ms/step - loss: 8.4531e-04 - val_loss: 0.0042\n",
            "Epoch 11/100\n",
            "11/11 [==============================] - 2s 184ms/step - loss: 8.3963e-04 - val_loss: 0.0040\n",
            "Epoch 12/100\n",
            "11/11 [==============================] - 2s 186ms/step - loss: 8.2866e-04 - val_loss: 0.0038\n",
            "Epoch 13/100\n",
            "11/11 [==============================] - 2s 184ms/step - loss: 8.1017e-04 - val_loss: 0.0045\n",
            "Epoch 14/100\n",
            "11/11 [==============================] - 2s 185ms/step - loss: 7.8911e-04 - val_loss: 0.0045\n",
            "Epoch 15/100\n",
            "11/11 [==============================] - 2s 186ms/step - loss: 7.5468e-04 - val_loss: 0.0038\n",
            "Epoch 16/100\n",
            "11/11 [==============================] - 2s 185ms/step - loss: 7.4071e-04 - val_loss: 0.0033\n",
            "Epoch 17/100\n",
            "11/11 [==============================] - 2s 184ms/step - loss: 7.1061e-04 - val_loss: 0.0040\n",
            "Epoch 18/100\n",
            "11/11 [==============================] - 2s 186ms/step - loss: 7.0184e-04 - val_loss: 0.0043\n",
            "Epoch 19/100\n",
            "11/11 [==============================] - 2s 184ms/step - loss: 7.1336e-04 - val_loss: 0.0030\n",
            "Epoch 20/100\n",
            "11/11 [==============================] - 2s 185ms/step - loss: 6.7410e-04 - val_loss: 0.0028\n",
            "Epoch 21/100\n",
            "11/11 [==============================] - 2s 186ms/step - loss: 6.3169e-04 - val_loss: 0.0028\n",
            "Epoch 22/100\n",
            "11/11 [==============================] - 2s 184ms/step - loss: 6.1208e-04 - val_loss: 0.0036\n",
            "Epoch 23/100\n",
            "11/11 [==============================] - 2s 185ms/step - loss: 6.7047e-04 - val_loss: 0.0025\n",
            "Epoch 24/100\n",
            "11/11 [==============================] - 2s 187ms/step - loss: 6.1325e-04 - val_loss: 0.0025\n",
            "Epoch 25/100\n",
            "11/11 [==============================] - 2s 186ms/step - loss: 6.3178e-04 - val_loss: 0.0024\n",
            "Epoch 26/100\n",
            "11/11 [==============================] - 2s 188ms/step - loss: 5.7142e-04 - val_loss: 0.0034\n",
            "Epoch 27/100\n",
            "11/11 [==============================] - 2s 214ms/step - loss: 5.5409e-04 - val_loss: 0.0024\n",
            "Epoch 28/100\n",
            "11/11 [==============================] - 2s 184ms/step - loss: 5.9783e-04 - val_loss: 0.0048\n",
            "Epoch 29/100\n",
            "11/11 [==============================] - 2s 187ms/step - loss: 5.6552e-04 - val_loss: 0.0026\n",
            "Epoch 30/100\n",
            "11/11 [==============================] - 2s 186ms/step - loss: 5.5505e-04 - val_loss: 0.0022\n",
            "Epoch 31/100\n",
            "11/11 [==============================] - 2s 185ms/step - loss: 5.4778e-04 - val_loss: 0.0020\n",
            "Epoch 32/100\n",
            "11/11 [==============================] - 2s 185ms/step - loss: 5.5802e-04 - val_loss: 0.0029\n",
            "Epoch 33/100\n",
            "11/11 [==============================] - 2s 187ms/step - loss: 5.3219e-04 - val_loss: 0.0041\n",
            "Epoch 34/100\n",
            "11/11 [==============================] - 2s 185ms/step - loss: 4.8904e-04 - val_loss: 0.0032\n",
            "Epoch 35/100\n",
            "11/11 [==============================] - 2s 191ms/step - loss: 5.0060e-04 - val_loss: 0.0027\n",
            "Epoch 36/100\n",
            "11/11 [==============================] - 2s 186ms/step - loss: 4.7179e-04 - val_loss: 0.0025\n",
            "Epoch 37/100\n",
            "11/11 [==============================] - 2s 186ms/step - loss: 4.6311e-04 - val_loss: 0.0019\n",
            "Epoch 38/100\n",
            "11/11 [==============================] - 2s 185ms/step - loss: 4.6991e-04 - val_loss: 0.0020\n",
            "Epoch 39/100\n",
            "11/11 [==============================] - 2s 186ms/step - loss: 4.5403e-04 - val_loss: 0.0024\n",
            "Epoch 40/100\n",
            "11/11 [==============================] - 2s 185ms/step - loss: 4.4698e-04 - val_loss: 0.0021\n",
            "Epoch 41/100\n",
            "11/11 [==============================] - 2s 184ms/step - loss: 4.3494e-04 - val_loss: 0.0018\n",
            "Epoch 42/100\n",
            "11/11 [==============================] - 2s 184ms/step - loss: 4.7282e-04 - val_loss: 0.0028\n",
            "Epoch 43/100\n",
            "11/11 [==============================] - 2s 186ms/step - loss: 4.3602e-04 - val_loss: 0.0031\n",
            "Epoch 44/100\n",
            "11/11 [==============================] - 2s 188ms/step - loss: 4.2644e-04 - val_loss: 0.0034\n",
            "Epoch 45/100\n",
            "11/11 [==============================] - 2s 185ms/step - loss: 4.4593e-04 - val_loss: 0.0045\n",
            "Epoch 46/100\n",
            "11/11 [==============================] - 2s 184ms/step - loss: 4.1302e-04 - val_loss: 0.0039\n",
            "Epoch 47/100\n",
            "11/11 [==============================] - 2s 185ms/step - loss: 4.1985e-04 - val_loss: 0.0016\n",
            "Epoch 48/100\n",
            "11/11 [==============================] - 2s 186ms/step - loss: 4.2530e-04 - val_loss: 0.0033\n",
            "Epoch 49/100\n",
            "11/11 [==============================] - 2s 224ms/step - loss: 4.0273e-04 - val_loss: 0.0029\n",
            "Epoch 50/100\n",
            "11/11 [==============================] - 4s 372ms/step - loss: 4.0847e-04 - val_loss: 0.0020\n",
            "Epoch 51/100\n",
            "11/11 [==============================] - 4s 387ms/step - loss: 4.1578e-04 - val_loss: 0.0023\n",
            "Epoch 52/100\n",
            "11/11 [==============================] - 4s 397ms/step - loss: 4.1260e-04 - val_loss: 0.0062\n",
            "Epoch 53/100\n",
            "11/11 [==============================] - 3s 232ms/step - loss: 3.9835e-04 - val_loss: 0.0035\n",
            "Epoch 54/100\n",
            "11/11 [==============================] - 2s 188ms/step - loss: 4.0029e-04 - val_loss: 0.0016\n",
            "Epoch 55/100\n",
            "11/11 [==============================] - 2s 187ms/step - loss: 4.0528e-04 - val_loss: 0.0042\n",
            "Epoch 56/100\n",
            "11/11 [==============================] - 2s 185ms/step - loss: 4.1005e-04 - val_loss: 0.0055\n",
            "Epoch 57/100\n",
            "11/11 [==============================] - 2s 188ms/step - loss: 4.2534e-04 - val_loss: 0.0019\n",
            "Epoch 58/100\n",
            "11/11 [==============================] - 2s 187ms/step - loss: 4.1671e-04 - val_loss: 0.0023\n",
            "Epoch 59/100\n",
            "11/11 [==============================] - 2s 186ms/step - loss: 3.5553e-04 - val_loss: 0.0040\n",
            "Epoch 60/100\n",
            "11/11 [==============================] - 2s 188ms/step - loss: 3.4955e-04 - val_loss: 0.0028\n",
            "Epoch 61/100\n",
            "11/11 [==============================] - 2s 186ms/step - loss: 3.3853e-04 - val_loss: 0.0029\n",
            "Epoch 62/100\n",
            "11/11 [==============================] - 2s 189ms/step - loss: 3.3563e-04 - val_loss: 0.0032\n",
            "Epoch 63/100\n",
            "11/11 [==============================] - 2s 183ms/step - loss: 3.2627e-04 - val_loss: 0.0034\n",
            "Epoch 64/100\n",
            "11/11 [==============================] - 2s 187ms/step - loss: 3.2666e-04 - val_loss: 0.0027\n",
            "Epoch 65/100\n",
            "11/11 [==============================] - 2s 185ms/step - loss: 3.2712e-04 - val_loss: 0.0035\n",
            "Epoch 66/100\n",
            "11/11 [==============================] - 2s 186ms/step - loss: 3.2784e-04 - val_loss: 0.0030\n",
            "Epoch 67/100\n",
            "11/11 [==============================] - 2s 187ms/step - loss: 3.2310e-04 - val_loss: 0.0062\n",
            "Epoch 68/100\n",
            "11/11 [==============================] - 2s 187ms/step - loss: 3.1497e-04 - val_loss: 0.0025\n",
            "Epoch 69/100\n",
            "11/11 [==============================] - 2s 186ms/step - loss: 2.9853e-04 - val_loss: 0.0030\n",
            "Epoch 70/100\n",
            "11/11 [==============================] - 2s 185ms/step - loss: 2.9310e-04 - val_loss: 0.0028\n",
            "Epoch 71/100\n",
            "11/11 [==============================] - 2s 187ms/step - loss: 2.9176e-04 - val_loss: 0.0040\n",
            "Epoch 72/100\n",
            "11/11 [==============================] - 2s 186ms/step - loss: 3.0975e-04 - val_loss: 0.0038\n",
            "Epoch 73/100\n",
            "11/11 [==============================] - 2s 185ms/step - loss: 3.1456e-04 - val_loss: 0.0023\n",
            "Epoch 74/100\n",
            "11/11 [==============================] - 2s 186ms/step - loss: 2.8704e-04 - val_loss: 0.0051\n",
            "Epoch 75/100\n",
            "11/11 [==============================] - 2s 186ms/step - loss: 2.9048e-04 - val_loss: 0.0031\n",
            "Epoch 76/100\n",
            "11/11 [==============================] - 2s 185ms/step - loss: 2.8512e-04 - val_loss: 0.0015\n",
            "Epoch 77/100\n",
            "11/11 [==============================] - 2s 188ms/step - loss: 3.0644e-04 - val_loss: 0.0044\n",
            "Epoch 78/100\n",
            "11/11 [==============================] - 2s 184ms/step - loss: 2.6886e-04 - val_loss: 0.0039\n",
            "Epoch 79/100\n",
            "11/11 [==============================] - 2s 185ms/step - loss: 2.6467e-04 - val_loss: 0.0026\n",
            "Epoch 80/100\n",
            "11/11 [==============================] - 2s 186ms/step - loss: 2.6663e-04 - val_loss: 0.0018\n",
            "Epoch 81/100\n",
            "11/11 [==============================] - 2s 183ms/step - loss: 2.9729e-04 - val_loss: 0.0051\n",
            "Epoch 82/100\n",
            "11/11 [==============================] - 2s 185ms/step - loss: 2.5861e-04 - val_loss: 0.0025\n",
            "Epoch 83/100\n",
            "11/11 [==============================] - 2s 184ms/step - loss: 2.5104e-04 - val_loss: 0.0028\n",
            "Epoch 84/100\n",
            "11/11 [==============================] - 2s 186ms/step - loss: 2.4217e-04 - val_loss: 0.0032\n",
            "Epoch 85/100\n",
            "11/11 [==============================] - 2s 185ms/step - loss: 2.3478e-04 - val_loss: 0.0029\n",
            "Epoch 86/100\n",
            "11/11 [==============================] - 2s 185ms/step - loss: 2.3503e-04 - val_loss: 0.0029\n",
            "Epoch 87/100\n",
            "11/11 [==============================] - 2s 184ms/step - loss: 2.3899e-04 - val_loss: 0.0035\n",
            "Epoch 88/100\n",
            "11/11 [==============================] - 2s 188ms/step - loss: 2.4327e-04 - val_loss: 0.0024\n",
            "Epoch 89/100\n",
            "11/11 [==============================] - 2s 186ms/step - loss: 2.2048e-04 - val_loss: 0.0035\n",
            "Epoch 90/100\n",
            "11/11 [==============================] - 2s 185ms/step - loss: 2.3036e-04 - val_loss: 0.0015\n",
            "Epoch 91/100\n",
            "11/11 [==============================] - 2s 186ms/step - loss: 2.3366e-04 - val_loss: 0.0020\n",
            "Epoch 92/100\n",
            "11/11 [==============================] - 2s 185ms/step - loss: 2.1734e-04 - val_loss: 0.0020\n",
            "Epoch 93/100\n",
            "11/11 [==============================] - 2s 185ms/step - loss: 2.0472e-04 - val_loss: 0.0021\n",
            "Epoch 94/100\n",
            "11/11 [==============================] - 2s 185ms/step - loss: 2.0390e-04 - val_loss: 0.0020\n",
            "Epoch 95/100\n",
            "11/11 [==============================] - 2s 186ms/step - loss: 2.0335e-04 - val_loss: 0.0029\n",
            "Epoch 96/100\n",
            "11/11 [==============================] - 2s 183ms/step - loss: 2.0170e-04 - val_loss: 0.0014\n",
            "Epoch 97/100\n",
            "11/11 [==============================] - 2s 186ms/step - loss: 2.0359e-04 - val_loss: 0.0021\n",
            "Epoch 98/100\n",
            "11/11 [==============================] - 2s 188ms/step - loss: 1.9085e-04 - val_loss: 0.0010\n",
            "Epoch 99/100\n",
            "11/11 [==============================] - 2s 187ms/step - loss: 2.0547e-04 - val_loss: 0.0013\n",
            "Epoch 100/100\n",
            "11/11 [==============================] - 2s 186ms/step - loss: 1.9573e-04 - val_loss: 0.0021\n"
          ]
        },
        {
          "output_type": "execute_result",
          "data": {
            "text/plain": [
              "<keras.callbacks.History at 0x7f88aba08610>"
            ]
          },
          "metadata": {},
          "execution_count": 33
        }
      ]
    },
    {
      "cell_type": "markdown",
      "source": [
        "### Predicting the Results"
      ],
      "metadata": {
        "id": "NXBasVdx4WvM"
      }
    },
    {
      "cell_type": "code",
      "source": [
        "train_predict=model.predict(X_train)\n",
        "test_predict=model.predict(X_test)"
      ],
      "metadata": {
        "id": "ycRfB1OiqO3z"
      },
      "execution_count": 34,
      "outputs": []
    },
    {
      "cell_type": "code",
      "source": [
        "train_predict=scaler.inverse_transform(train_predict)\n",
        "test_predict=scaler.inverse_transform(test_predict)"
      ],
      "metadata": {
        "id": "3rENkfCOqO7S"
      },
      "execution_count": 35,
      "outputs": []
    },
    {
      "cell_type": "markdown",
      "source": [
        "###Performance of Model"
      ],
      "metadata": {
        "id": "qxpsQluT4dGa"
      }
    },
    {
      "cell_type": "code",
      "source": [
        "### Calculate RMSE performance metrics\n",
        "from sklearn.metrics import mean_squared_error\n",
        "math.sqrt(mean_squared_error(y_train,train_predict))"
      ],
      "metadata": {
        "colab": {
          "base_uri": "https://localhost:8080/"
        },
        "id": "MVLOAbID1ppU",
        "outputId": "749ac12b-84bd-4e70-d4a9-c440274fec1d"
      },
      "execution_count": 36,
      "outputs": [
        {
          "output_type": "execute_result",
          "data": {
            "text/plain": [
              "139.88796516777313"
            ]
          },
          "metadata": {},
          "execution_count": 36
        }
      ]
    },
    {
      "cell_type": "code",
      "source": [
        "### Test Data RMSE\n",
        "math.sqrt(mean_squared_error(ytest,test_predict))"
      ],
      "metadata": {
        "colab": {
          "base_uri": "https://localhost:8080/"
        },
        "id": "7wCAHywf1toU",
        "outputId": "2d4710f8-6302-43b0-c35d-fb6b614bab41"
      },
      "execution_count": 37,
      "outputs": [
        {
          "output_type": "execute_result",
          "data": {
            "text/plain": [
              "237.2692719277122"
            ]
          },
          "metadata": {},
          "execution_count": 37
        }
      ]
    },
    {
      "cell_type": "markdown",
      "source": [
        "### Plotting Predicted Results"
      ],
      "metadata": {
        "id": "jOe7ZmN1-8yO"
      }
    },
    {
      "cell_type": "code",
      "source": [
        "# shift train predictions for plotting\n",
        "look_back=100\n",
        "trainPredictPlot = numpy.empty_like(df1)\n",
        "trainPredictPlot[:, :] = np.nan\n",
        "trainPredictPlot[look_back:len(train_predict)+look_back, :] = train_predict\n",
        "# shift test predictions for plotting\n",
        "testPredictPlot = numpy.empty_like(df1)\n",
        "testPredictPlot[:, :] = numpy.nan\n",
        "testPredictPlot[len(train_predict)+(look_back*2)+1:len(df1)-1, :] = test_predict\n",
        "# plot baseline and predictions\n",
        "plt.plot(scaler.inverse_transform(df1))\n",
        "plt.plot(trainPredictPlot)\n",
        "plt.plot(testPredictPlot)\n",
        "plt.show()"
      ],
      "metadata": {
        "colab": {
          "base_uri": "https://localhost:8080/",
          "height": 265
        },
        "id": "foIpiHfc16et",
        "outputId": "b84b11ea-ee68-4ff2-f315-02f312263aca"
      },
      "execution_count": 38,
      "outputs": [
        {
          "output_type": "display_data",
          "data": {
            "text/plain": [
              "<Figure size 432x288 with 1 Axes>"
            ],
            "image/png": "[encoded data removed]"
          },
          "metadata": {
            "needs_background": "light"
          }
        }
      ]
    },
    {
      "cell_type": "markdown",
      "source": [
        "\n",
        "\n",
        "> blue graph - Actual Data Set\n",
        "\n",
        "> orange graph - Predicted results for training data set\n",
        "\n",
        "> green graph - Predicted results for test data set\n",
        "\n",
        "\n"
      ],
      "metadata": {
        "id": "hS9g9Rxf2o7m"
      }
    },
    {
      "cell_type": "markdown",
      "source": [
        "### Predicting the Future Stock Price for the following Month (next 30 Days)"
      ],
      "metadata": {
        "id": "gdylBB7N4Cng"
      }
    },
    {
      "cell_type": "code",
      "source": [
        "len(test_data)"
      ],
      "metadata": {
        "colab": {
          "base_uri": "https://localhost:8080/"
        },
        "id": "sAWLnIl7172H",
        "outputId": "e04e3147-83e6-47e7-cc17-805eaf257d3d"
      },
      "execution_count": 39,
      "outputs": [
        {
          "output_type": "execute_result",
          "data": {
            "text/plain": [
              "433"
            ]
          },
          "metadata": {},
          "execution_count": 39
        }
      ]
    },
    {
      "cell_type": "code",
      "source": [
        "#Taking the last 100 days values as input to predic future values\n",
        "x_input=test_data[333:].reshape(1,-1)\n",
        "x_input.shape"
      ],
      "metadata": {
        "colab": {
          "base_uri": "https://localhost:8080/"
        },
        "id": "6fWvdp_C175v",
        "outputId": "cfff9829-9d2e-4bd0-fb36-bada35b5a9bc"
      },
      "execution_count": 79,
      "outputs": [
        {
          "output_type": "execute_result",
          "data": {
            "text/plain": [
              "(1, 100)"
            ]
          },
          "metadata": {},
          "execution_count": 79
        }
      ]
    },
    {
      "cell_type": "code",
      "source": [
        "temp_input=list(x_input)\n",
        "temp_input=temp_input[0].tolist()"
      ],
      "metadata": {
        "id": "LMki-iAn4xzd"
      },
      "execution_count": 80,
      "outputs": []
    },
    {
      "cell_type": "code",
      "source": [
        "# demonstrate prediction for next 30 days\n",
        "from numpy import array\n",
        "\n",
        "lst_output=[]\n",
        "n_steps=100\n",
        "i=1\n",
        "while(i<=30):\n",
        "    \n",
        "    if(len(temp_input)>100):\n",
        "        #print(temp_input)\n",
        "        x_input=np.array(temp_input[1:])\n",
        "        print(\"{} day input \\n{}\".format(i,x_input))\n",
        "        x_input=x_input.reshape(1,-1)\n",
        "        x_input = x_input.reshape((1, n_steps, 1))\n",
        "        #print(x_input)\n",
        "        yhat = model.predict(x_input, verbose=0)\n",
        "        print(\"\\n{} day output {}\\n\\n\".format(i,yhat))\n",
        "        temp_input.extend(yhat[0].tolist())\n",
        "        temp_input=temp_input[1:]\n",
        "        #print(temp_input)\n",
        "        lst_output.extend(yhat.tolist())\n",
        "        i=i+1\n",
        "    else:\n",
        "        x_input = x_input.reshape((1, n_steps,1))\n",
        "        yhat = model.predict(x_input, verbose=0)\n",
        "        print(yhat[0])\n",
        "        temp_input.extend(yhat[0].tolist())\n",
        "        print(len(temp_input))\n",
        "        lst_output.extend(yhat.tolist())\n",
        "        i=i+1\n",
        "    "
      ],
      "metadata": {
        "colab": {
          "base_uri": "https://localhost:8080/"
        },
        "id": "BfcBLmei4x2V",
        "outputId": "048b21cd-4857-404d-91a1-90d484533056"
      },
      "execution_count": 81,
      "outputs": [
        {
          "output_type": "stream",
          "name": "stdout",
          "text": [
            "[0.48423368]\n",
            "101\n",
            "2 day input \n",
            "[0.62057373 0.64926042 0.63671    0.63155536 0.64769162 0.66136262\n",
            " 0.68063649 0.69565217 0.7082026  0.69408337 0.72545944 0.74652622\n",
            " 0.71985657 0.68399821 0.72209771 0.7310623  0.7371134  0.73644106\n",
            " 0.7218736  0.73935455 0.74831914 0.78507396 0.75974899 0.77409234\n",
            " 0.73688929 0.70909906 0.69722098 0.71470193 0.72545944 0.73823398\n",
            " 0.73038996 0.72299417 0.74719857 0.72523532 0.7994173  0.78283281\n",
            " 0.75571493 0.73352757 0.77364411 0.77140296 0.7492156  0.72859704\n",
            " 0.70035858 0.63021067 0.65105334 0.60959211 0.58471537 0.609368\n",
            " 0.63043478 0.64388167 0.6017481  0.61160914 0.62572837 0.62550426\n",
            " 0.64657104 0.59614523 0.59524877 0.59166293 0.61340206 0.6048857\n",
            " 0.59928283 0.60354101 0.58673241 0.5912147  0.60466159 0.61272972\n",
            " 0.62909009 0.63872703 0.61810847 0.59524877 0.57530255 0.60242044\n",
            " 0.58583595 0.5912147  0.59771403 0.59009413 0.60085164 0.5425818\n",
            " 0.53675482 0.53070372 0.53922008 0.5349619  0.50806813 0.53787539\n",
            " 0.58852532 0.60040341 0.59345585 0.59278351 0.59143882 0.58561183\n",
            " 0.59816226 0.58987001 0.58538772 0.58762887 0.57485433 0.56006275\n",
            " 0.51792918 0.47758853 0.50425818 0.48423368]\n",
            "\n",
            "2 day output [[0.48652008]]\n",
            "\n",
            "\n",
            "3 day input \n",
            "[0.64926042 0.63671    0.63155536 0.64769162 0.66136262 0.68063649\n",
            " 0.69565217 0.7082026  0.69408337 0.72545944 0.74652622 0.71985657\n",
            " 0.68399821 0.72209771 0.7310623  0.7371134  0.73644106 0.7218736\n",
            " 0.73935455 0.74831914 0.78507396 0.75974899 0.77409234 0.73688929\n",
            " 0.70909906 0.69722098 0.71470193 0.72545944 0.73823398 0.73038996\n",
            " 0.72299417 0.74719857 0.72523532 0.7994173  0.78283281 0.75571493\n",
            " 0.73352757 0.77364411 0.77140296 0.7492156  0.72859704 0.70035858\n",
            " 0.63021067 0.65105334 0.60959211 0.58471537 0.609368   0.63043478\n",
            " 0.64388167 0.6017481  0.61160914 0.62572837 0.62550426 0.64657104\n",
            " 0.59614523 0.59524877 0.59166293 0.61340206 0.6048857  0.59928283\n",
            " 0.60354101 0.58673241 0.5912147  0.60466159 0.61272972 0.62909009\n",
            " 0.63872703 0.61810847 0.59524877 0.57530255 0.60242044 0.58583595\n",
            " 0.5912147  0.59771403 0.59009413 0.60085164 0.5425818  0.53675482\n",
            " 0.53070372 0.53922008 0.5349619  0.50806813 0.53787539 0.58852532\n",
            " 0.60040341 0.59345585 0.59278351 0.59143882 0.58561183 0.59816226\n",
            " 0.58987001 0.58538772 0.58762887 0.57485433 0.56006275 0.51792918\n",
            " 0.47758853 0.50425818 0.48423368 0.48652008]\n",
            "\n",
            "3 day output [[0.48247617]]\n",
            "\n",
            "\n",
            "4 day input \n",
            "[0.63671    0.63155536 0.64769162 0.66136262 0.68063649 0.69565217\n",
            " 0.7082026  0.69408337 0.72545944 0.74652622 0.71985657 0.68399821\n",
            " 0.72209771 0.7310623  0.7371134  0.73644106 0.7218736  0.73935455\n",
            " 0.74831914 0.78507396 0.75974899 0.77409234 0.73688929 0.70909906\n",
            " 0.69722098 0.71470193 0.72545944 0.73823398 0.73038996 0.72299417\n",
            " 0.74719857 0.72523532 0.7994173  0.78283281 0.75571493 0.73352757\n",
            " 0.77364411 0.77140296 0.7492156  0.72859704 0.70035858 0.63021067\n",
            " 0.65105334 0.60959211 0.58471537 0.609368   0.63043478 0.64388167\n",
            " 0.6017481  0.61160914 0.62572837 0.62550426 0.64657104 0.59614523\n",
            " 0.59524877 0.59166293 0.61340206 0.6048857  0.59928283 0.60354101\n",
            " 0.58673241 0.5912147  0.60466159 0.61272972 0.62909009 0.63872703\n",
            " 0.61810847 0.59524877 0.57530255 0.60242044 0.58583595 0.5912147\n",
            " 0.59771403 0.59009413 0.60085164 0.5425818  0.53675482 0.53070372\n",
            " 0.53922008 0.5349619  0.50806813 0.53787539 0.58852532 0.60040341\n",
            " 0.59345585 0.59278351 0.59143882 0.58561183 0.59816226 0.58987001\n",
            " 0.58538772 0.58762887 0.57485433 0.56006275 0.51792918 0.47758853\n",
            " 0.50425818 0.48423368 0.48652008 0.48247617]\n",
            "\n",
            "4 day output [[0.47573856]]\n",
            "\n",
            "\n",
            "5 day input \n",
            "[0.63155536 0.64769162 0.66136262 0.68063649 0.69565217 0.7082026\n",
            " 0.69408337 0.72545944 0.74652622 0.71985657 0.68399821 0.72209771\n",
            " 0.7310623  0.7371134  0.73644106 0.7218736  0.73935455 0.74831914\n",
            " 0.78507396 0.75974899 0.77409234 0.73688929 0.70909906 0.69722098\n",
            " 0.71470193 0.72545944 0.73823398 0.73038996 0.72299417 0.74719857\n",
            " 0.72523532 0.7994173  0.78283281 0.75571493 0.73352757 0.77364411\n",
            " 0.77140296 0.7492156  0.72859704 0.70035858 0.63021067 0.65105334\n",
            " 0.60959211 0.58471537 0.609368   0.63043478 0.64388167 0.6017481\n",
            " 0.61160914 0.62572837 0.62550426 0.64657104 0.59614523 0.59524877\n",
            " 0.59166293 0.61340206 0.6048857  0.59928283 0.60354101 0.58673241\n",
            " 0.5912147  0.60466159 0.61272972 0.62909009 0.63872703 0.61810847\n",
            " 0.59524877 0.57530255 0.60242044 0.58583595 0.5912147  0.59771403\n",
            " 0.59009413 0.60085164 0.5425818  0.53675482 0.53070372 0.53922008\n",
            " 0.5349619  0.50806813 0.53787539 0.58852532 0.60040341 0.59345585\n",
            " 0.59278351 0.59143882 0.58561183 0.59816226 0.58987001 0.58538772\n",
            " 0.58762887 0.57485433 0.56006275 0.51792918 0.47758853 0.50425818\n",
            " 0.48423368 0.48652008 0.48247617 0.47573856]\n",
            "\n",
            "5 day output [[0.46684787]]\n",
            "\n",
            "\n",
            "6 day input \n",
            "[0.64769162 0.66136262 0.68063649 0.69565217 0.7082026  0.69408337\n",
            " 0.72545944 0.74652622 0.71985657 0.68399821 0.72209771 0.7310623\n",
            " 0.7371134  0.73644106 0.7218736  0.73935455 0.74831914 0.78507396\n",
            " 0.75974899 0.77409234 0.73688929 0.70909906 0.69722098 0.71470193\n",
            " 0.72545944 0.73823398 0.73038996 0.72299417 0.74719857 0.72523532\n",
            " 0.7994173  0.78283281 0.75571493 0.73352757 0.77364411 0.77140296\n",
            " 0.7492156  0.72859704 0.70035858 0.63021067 0.65105334 0.60959211\n",
            " 0.58471537 0.609368   0.63043478 0.64388167 0.6017481  0.61160914\n",
            " 0.62572837 0.62550426 0.64657104 0.59614523 0.59524877 0.59166293\n",
            " 0.61340206 0.6048857  0.59928283 0.60354101 0.58673241 0.5912147\n",
            " 0.60466159 0.61272972 0.62909009 0.63872703 0.61810847 0.59524877\n",
            " 0.57530255 0.60242044 0.58583595 0.5912147  0.59771403 0.59009413\n",
            " 0.60085164 0.5425818  0.53675482 0.53070372 0.53922008 0.5349619\n",
            " 0.50806813 0.53787539 0.58852532 0.60040341 0.59345585 0.59278351\n",
            " 0.59143882 0.58561183 0.59816226 0.58987001 0.58538772 0.58762887\n",
            " 0.57485433 0.56006275 0.51792918 0.47758853 0.50425818 0.48423368\n",
            " 0.48652008 0.48247617 0.47573856 0.46684787]\n",
            "\n",
            "6 day output [[0.4566631]]\n",
            "\n",
            "\n",
            "7 day input \n",
            "[0.66136262 0.68063649 0.69565217 0.7082026  0.69408337 0.72545944\n",
            " 0.74652622 0.71985657 0.68399821 0.72209771 0.7310623  0.7371134\n",
            " 0.73644106 0.7218736  0.73935455 0.74831914 0.78507396 0.75974899\n",
            " 0.77409234 0.73688929 0.70909906 0.69722098 0.71470193 0.72545944\n",
            " 0.73823398 0.73038996 0.72299417 0.74719857 0.72523532 0.7994173\n",
            " 0.78283281 0.75571493 0.73352757 0.77364411 0.77140296 0.7492156\n",
            " 0.72859704 0.70035858 0.63021067 0.65105334 0.60959211 0.58471537\n",
            " 0.609368   0.63043478 0.64388167 0.6017481  0.61160914 0.62572837\n",
            " 0.62550426 0.64657104 0.59614523 0.59524877 0.59166293 0.61340206\n",
            " 0.6048857  0.59928283 0.60354101 0.58673241 0.5912147  0.60466159\n",
            " 0.61272972 0.62909009 0.63872703 0.61810847 0.59524877 0.57530255\n",
            " 0.60242044 0.58583595 0.5912147  0.59771403 0.59009413 0.60085164\n",
            " 0.5425818  0.53675482 0.53070372 0.53922008 0.5349619  0.50806813\n",
            " 0.53787539 0.58852532 0.60040341 0.59345585 0.59278351 0.59143882\n",
            " 0.58561183 0.59816226 0.58987001 0.58538772 0.58762887 0.57485433\n",
            " 0.56006275 0.51792918 0.47758853 0.50425818 0.48423368 0.48652008\n",
            " 0.48247617 0.47573856 0.46684787 0.4566631 ]\n",
            "\n",
            "7 day output [[0.44629622]]\n",
            "\n",
            "\n",
            "8 day input \n",
            "[0.68063649 0.69565217 0.7082026  0.69408337 0.72545944 0.74652622\n",
            " 0.71985657 0.68399821 0.72209771 0.7310623  0.7371134  0.73644106\n",
            " 0.7218736  0.73935455 0.74831914 0.78507396 0.75974899 0.77409234\n",
            " 0.73688929 0.70909906 0.69722098 0.71470193 0.72545944 0.73823398\n",
            " 0.73038996 0.72299417 0.74719857 0.72523532 0.7994173  0.78283281\n",
            " 0.75571493 0.73352757 0.77364411 0.77140296 0.7492156  0.72859704\n",
            " 0.70035858 0.63021067 0.65105334 0.60959211 0.58471537 0.609368\n",
            " 0.63043478 0.64388167 0.6017481  0.61160914 0.62572837 0.62550426\n",
            " 0.64657104 0.59614523 0.59524877 0.59166293 0.61340206 0.6048857\n",
            " 0.59928283 0.60354101 0.58673241 0.5912147  0.60466159 0.61272972\n",
            " 0.62909009 0.63872703 0.61810847 0.59524877 0.57530255 0.60242044\n",
            " 0.58583595 0.5912147  0.59771403 0.59009413 0.60085164 0.5425818\n",
            " 0.53675482 0.53070372 0.53922008 0.5349619  0.50806813 0.53787539\n",
            " 0.58852532 0.60040341 0.59345585 0.59278351 0.59143882 0.58561183\n",
            " 0.59816226 0.58987001 0.58538772 0.58762887 0.57485433 0.56006275\n",
            " 0.51792918 0.47758853 0.50425818 0.48423368 0.48652008 0.48247617\n",
            " 0.47573856 0.46684787 0.4566631  0.44629622]\n",
            "\n",
            "8 day output [[0.4366914]]\n",
            "\n",
            "\n",
            "9 day input \n",
            "[0.69565217 0.7082026  0.69408337 0.72545944 0.74652622 0.71985657\n",
            " 0.68399821 0.72209771 0.7310623  0.7371134  0.73644106 0.7218736\n",
            " 0.73935455 0.74831914 0.78507396 0.75974899 0.77409234 0.73688929\n",
            " 0.70909906 0.69722098 0.71470193 0.72545944 0.73823398 0.73038996\n",
            " 0.72299417 0.74719857 0.72523532 0.7994173  0.78283281 0.75571493\n",
            " 0.73352757 0.77364411 0.77140296 0.7492156  0.72859704 0.70035858\n",
            " 0.63021067 0.65105334 0.60959211 0.58471537 0.609368   0.63043478\n",
            " 0.64388167 0.6017481  0.61160914 0.62572837 0.62550426 0.64657104\n",
            " 0.59614523 0.59524877 0.59166293 0.61340206 0.6048857  0.59928283\n",
            " 0.60354101 0.58673241 0.5912147  0.60466159 0.61272972 0.62909009\n",
            " 0.63872703 0.61810847 0.59524877 0.57530255 0.60242044 0.58583595\n",
            " 0.5912147  0.59771403 0.59009413 0.60085164 0.5425818  0.53675482\n",
            " 0.53070372 0.53922008 0.5349619  0.50806813 0.53787539 0.58852532\n",
            " 0.60040341 0.59345585 0.59278351 0.59143882 0.58561183 0.59816226\n",
            " 0.58987001 0.58538772 0.58762887 0.57485433 0.56006275 0.51792918\n",
            " 0.47758853 0.50425818 0.48423368 0.48652008 0.48247617 0.47573856\n",
            " 0.46684787 0.4566631  0.44629622 0.4366914 ]\n",
            "\n",
            "9 day output [[0.4284026]]\n",
            "\n",
            "\n",
            "10 day input \n",
            "[0.7082026  0.69408337 0.72545944 0.74652622 0.71985657 0.68399821\n",
            " 0.72209771 0.7310623  0.7371134  0.73644106 0.7218736  0.73935455\n",
            " 0.74831914 0.78507396 0.75974899 0.77409234 0.73688929 0.70909906\n",
            " 0.69722098 0.71470193 0.72545944 0.73823398 0.73038996 0.72299417\n",
            " 0.74719857 0.72523532 0.7994173  0.78283281 0.75571493 0.73352757\n",
            " 0.77364411 0.77140296 0.7492156  0.72859704 0.70035858 0.63021067\n",
            " 0.65105334 0.60959211 0.58471537 0.609368   0.63043478 0.64388167\n",
            " 0.6017481  0.61160914 0.62572837 0.62550426 0.64657104 0.59614523\n",
            " 0.59524877 0.59166293 0.61340206 0.6048857  0.59928283 0.60354101\n",
            " 0.58673241 0.5912147  0.60466159 0.61272972 0.62909009 0.63872703\n",
            " 0.61810847 0.59524877 0.57530255 0.60242044 0.58583595 0.5912147\n",
            " 0.59771403 0.59009413 0.60085164 0.5425818  0.53675482 0.53070372\n",
            " 0.53922008 0.5349619  0.50806813 0.53787539 0.58852532 0.60040341\n",
            " 0.59345585 0.59278351 0.59143882 0.58561183 0.59816226 0.58987001\n",
            " 0.58538772 0.58762887 0.57485433 0.56006275 0.51792918 0.47758853\n",
            " 0.50425818 0.48423368 0.48652008 0.48247617 0.47573856 0.46684787\n",
            " 0.4566631  0.44629622 0.4366914  0.4284026 ]\n",
            "\n",
            "10 day output [[0.4215683]]\n",
            "\n",
            "\n",
            "11 day input \n",
            "[0.69408337 0.72545944 0.74652622 0.71985657 0.68399821 0.72209771\n",
            " 0.7310623  0.7371134  0.73644106 0.7218736  0.73935455 0.74831914\n",
            " 0.78507396 0.75974899 0.77409234 0.73688929 0.70909906 0.69722098\n",
            " 0.71470193 0.72545944 0.73823398 0.73038996 0.72299417 0.74719857\n",
            " 0.72523532 0.7994173  0.78283281 0.75571493 0.73352757 0.77364411\n",
            " 0.77140296 0.7492156  0.72859704 0.70035858 0.63021067 0.65105334\n",
            " 0.60959211 0.58471537 0.609368   0.63043478 0.64388167 0.6017481\n",
            " 0.61160914 0.62572837 0.62550426 0.64657104 0.59614523 0.59524877\n",
            " 0.59166293 0.61340206 0.6048857  0.59928283 0.60354101 0.58673241\n",
            " 0.5912147  0.60466159 0.61272972 0.62909009 0.63872703 0.61810847\n",
            " 0.59524877 0.57530255 0.60242044 0.58583595 0.5912147  0.59771403\n",
            " 0.59009413 0.60085164 0.5425818  0.53675482 0.53070372 0.53922008\n",
            " 0.5349619  0.50806813 0.53787539 0.58852532 0.60040341 0.59345585\n",
            " 0.59278351 0.59143882 0.58561183 0.59816226 0.58987001 0.58538772\n",
            " 0.58762887 0.57485433 0.56006275 0.51792918 0.47758853 0.50425818\n",
            " 0.48423368 0.48652008 0.48247617 0.47573856 0.46684787 0.4566631\n",
            " 0.44629622 0.4366914  0.4284026  0.4215683 ]\n",
            "\n",
            "11 day output [[0.41601166]]\n",
            "\n",
            "\n",
            "12 day input \n",
            "[0.72545944 0.74652622 0.71985657 0.68399821 0.72209771 0.7310623\n",
            " 0.7371134  0.73644106 0.7218736  0.73935455 0.74831914 0.78507396\n",
            " 0.75974899 0.77409234 0.73688929 0.70909906 0.69722098 0.71470193\n",
            " 0.72545944 0.73823398 0.73038996 0.72299417 0.74719857 0.72523532\n",
            " 0.7994173  0.78283281 0.75571493 0.73352757 0.77364411 0.77140296\n",
            " 0.7492156  0.72859704 0.70035858 0.63021067 0.65105334 0.60959211\n",
            " 0.58471537 0.609368   0.63043478 0.64388167 0.6017481  0.61160914\n",
            " 0.62572837 0.62550426 0.64657104 0.59614523 0.59524877 0.59166293\n",
            " 0.61340206 0.6048857  0.59928283 0.60354101 0.58673241 0.5912147\n",
            " 0.60466159 0.61272972 0.62909009 0.63872703 0.61810847 0.59524877\n",
            " 0.57530255 0.60242044 0.58583595 0.5912147  0.59771403 0.59009413\n",
            " 0.60085164 0.5425818  0.53675482 0.53070372 0.53922008 0.5349619\n",
            " 0.50806813 0.53787539 0.58852532 0.60040341 0.59345585 0.59278351\n",
            " 0.59143882 0.58561183 0.59816226 0.58987001 0.58538772 0.58762887\n",
            " 0.57485433 0.56006275 0.51792918 0.47758853 0.50425818 0.48423368\n",
            " 0.48652008 0.48247617 0.47573856 0.46684787 0.4566631  0.44629622\n",
            " 0.4366914  0.4284026  0.4215683  0.41601166]\n",
            "\n",
            "12 day output [[0.41138774]]\n",
            "\n",
            "\n",
            "13 day input \n",
            "[0.74652622 0.71985657 0.68399821 0.72209771 0.7310623  0.7371134\n",
            " 0.73644106 0.7218736  0.73935455 0.74831914 0.78507396 0.75974899\n",
            " 0.77409234 0.73688929 0.70909906 0.69722098 0.71470193 0.72545944\n",
            " 0.73823398 0.73038996 0.72299417 0.74719857 0.72523532 0.7994173\n",
            " 0.78283281 0.75571493 0.73352757 0.77364411 0.77140296 0.7492156\n",
            " 0.72859704 0.70035858 0.63021067 0.65105334 0.60959211 0.58471537\n",
            " 0.609368   0.63043478 0.64388167 0.6017481  0.61160914 0.62572837\n",
            " 0.62550426 0.64657104 0.59614523 0.59524877 0.59166293 0.61340206\n",
            " 0.6048857  0.59928283 0.60354101 0.58673241 0.5912147  0.60466159\n",
            " 0.61272972 0.62909009 0.63872703 0.61810847 0.59524877 0.57530255\n",
            " 0.60242044 0.58583595 0.5912147  0.59771403 0.59009413 0.60085164\n",
            " 0.5425818  0.53675482 0.53070372 0.53922008 0.5349619  0.50806813\n",
            " 0.53787539 0.58852532 0.60040341 0.59345585 0.59278351 0.59143882\n",
            " 0.58561183 0.59816226 0.58987001 0.58538772 0.58762887 0.57485433\n",
            " 0.56006275 0.51792918 0.47758853 0.50425818 0.48423368 0.48652008\n",
            " 0.48247617 0.47573856 0.46684787 0.4566631  0.44629622 0.4366914\n",
            " 0.4284026  0.4215683  0.41601166 0.41138774]\n",
            "\n",
            "13 day output [[0.40731815]]\n",
            "\n",
            "\n",
            "14 day input \n",
            "[0.71985657 0.68399821 0.72209771 0.7310623  0.7371134  0.73644106\n",
            " 0.7218736  0.73935455 0.74831914 0.78507396 0.75974899 0.77409234\n",
            " 0.73688929 0.70909906 0.69722098 0.71470193 0.72545944 0.73823398\n",
            " 0.73038996 0.72299417 0.74719857 0.72523532 0.7994173  0.78283281\n",
            " 0.75571493 0.73352757 0.77364411 0.77140296 0.7492156  0.72859704\n",
            " 0.70035858 0.63021067 0.65105334 0.60959211 0.58471537 0.609368\n",
            " 0.63043478 0.64388167 0.6017481  0.61160914 0.62572837 0.62550426\n",
            " 0.64657104 0.59614523 0.59524877 0.59166293 0.61340206 0.6048857\n",
            " 0.59928283 0.60354101 0.58673241 0.5912147  0.60466159 0.61272972\n",
            " 0.62909009 0.63872703 0.61810847 0.59524877 0.57530255 0.60242044\n",
            " 0.58583595 0.5912147  0.59771403 0.59009413 0.60085164 0.5425818\n",
            " 0.53675482 0.53070372 0.53922008 0.5349619  0.50806813 0.53787539\n",
            " 0.58852532 0.60040341 0.59345585 0.59278351 0.59143882 0.58561183\n",
            " 0.59816226 0.58987001 0.58538772 0.58762887 0.57485433 0.56006275\n",
            " 0.51792918 0.47758853 0.50425818 0.48423368 0.48652008 0.48247617\n",
            " 0.47573856 0.46684787 0.4566631  0.44629622 0.4366914  0.4284026\n",
            " 0.4215683  0.41601166 0.41138774 0.40731815]\n",
            "\n",
            "14 day output [[0.4034848]]\n",
            "\n",
            "\n",
            "15 day input \n",
            "[0.68399821 0.72209771 0.7310623  0.7371134  0.73644106 0.7218736\n",
            " 0.73935455 0.74831914 0.78507396 0.75974899 0.77409234 0.73688929\n",
            " 0.70909906 0.69722098 0.71470193 0.72545944 0.73823398 0.73038996\n",
            " 0.72299417 0.74719857 0.72523532 0.7994173  0.78283281 0.75571493\n",
            " 0.73352757 0.77364411 0.77140296 0.7492156  0.72859704 0.70035858\n",
            " 0.63021067 0.65105334 0.60959211 0.58471537 0.609368   0.63043478\n",
            " 0.64388167 0.6017481  0.61160914 0.62572837 0.62550426 0.64657104\n",
            " 0.59614523 0.59524877 0.59166293 0.61340206 0.6048857  0.59928283\n",
            " 0.60354101 0.58673241 0.5912147  0.60466159 0.61272972 0.62909009\n",
            " 0.63872703 0.61810847 0.59524877 0.57530255 0.60242044 0.58583595\n",
            " 0.5912147  0.59771403 0.59009413 0.60085164 0.5425818  0.53675482\n",
            " 0.53070372 0.53922008 0.5349619  0.50806813 0.53787539 0.58852532\n",
            " 0.60040341 0.59345585 0.59278351 0.59143882 0.58561183 0.59816226\n",
            " 0.58987001 0.58538772 0.58762887 0.57485433 0.56006275 0.51792918\n",
            " 0.47758853 0.50425818 0.48423368 0.48652008 0.48247617 0.47573856\n",
            " 0.46684787 0.4566631  0.44629622 0.4366914  0.4284026  0.4215683\n",
            " 0.41601166 0.41138774 0.40731815 0.40348479]\n",
            "\n",
            "15 day output [[0.3996757]]\n",
            "\n",
            "\n",
            "16 day input \n",
            "[0.72209771 0.7310623  0.7371134  0.73644106 0.7218736  0.73935455\n",
            " 0.74831914 0.78507396 0.75974899 0.77409234 0.73688929 0.70909906\n",
            " 0.69722098 0.71470193 0.72545944 0.73823398 0.73038996 0.72299417\n",
            " 0.74719857 0.72523532 0.7994173  0.78283281 0.75571493 0.73352757\n",
            " 0.77364411 0.77140296 0.7492156  0.72859704 0.70035858 0.63021067\n",
            " 0.65105334 0.60959211 0.58471537 0.609368   0.63043478 0.64388167\n",
            " 0.6017481  0.61160914 0.62572837 0.62550426 0.64657104 0.59614523\n",
            " 0.59524877 0.59166293 0.61340206 0.6048857  0.59928283 0.60354101\n",
            " 0.58673241 0.5912147  0.60466159 0.61272972 0.62909009 0.63872703\n",
            " 0.61810847 0.59524877 0.57530255 0.60242044 0.58583595 0.5912147\n",
            " 0.59771403 0.59009413 0.60085164 0.5425818  0.53675482 0.53070372\n",
            " 0.53922008 0.5349619  0.50806813 0.53787539 0.58852532 0.60040341\n",
            " 0.59345585 0.59278351 0.59143882 0.58561183 0.59816226 0.58987001\n",
            " 0.58538772 0.58762887 0.57485433 0.56006275 0.51792918 0.47758853\n",
            " 0.50425818 0.48423368 0.48652008 0.48247617 0.47573856 0.46684787\n",
            " 0.4566631  0.44629622 0.4366914  0.4284026  0.4215683  0.41601166\n",
            " 0.41138774 0.40731815 0.40348479 0.3996757 ]\n",
            "\n",
            "16 day output [[0.39579117]]\n",
            "\n",
            "\n",
            "17 day input \n",
            "[0.7310623  0.7371134  0.73644106 0.7218736  0.73935455 0.74831914\n",
            " 0.78507396 0.75974899 0.77409234 0.73688929 0.70909906 0.69722098\n",
            " 0.71470193 0.72545944 0.73823398 0.73038996 0.72299417 0.74719857\n",
            " 0.72523532 0.7994173  0.78283281 0.75571493 0.73352757 0.77364411\n",
            " 0.77140296 0.7492156  0.72859704 0.70035858 0.63021067 0.65105334\n",
            " 0.60959211 0.58471537 0.609368   0.63043478 0.64388167 0.6017481\n",
            " 0.61160914 0.62572837 0.62550426 0.64657104 0.59614523 0.59524877\n",
            " 0.59166293 0.61340206 0.6048857  0.59928283 0.60354101 0.58673241\n",
            " 0.5912147  0.60466159 0.61272972 0.62909009 0.63872703 0.61810847\n",
            " 0.59524877 0.57530255 0.60242044 0.58583595 0.5912147  0.59771403\n",
            " 0.59009413 0.60085164 0.5425818  0.53675482 0.53070372 0.53922008\n",
            " 0.5349619  0.50806813 0.53787539 0.58852532 0.60040341 0.59345585\n",
            " 0.59278351 0.59143882 0.58561183 0.59816226 0.58987001 0.58538772\n",
            " 0.58762887 0.57485433 0.56006275 0.51792918 0.47758853 0.50425818\n",
            " 0.48423368 0.48652008 0.48247617 0.47573856 0.46684787 0.4566631\n",
            " 0.44629622 0.4366914  0.4284026  0.4215683  0.41601166 0.41138774\n",
            " 0.40731815 0.40348479 0.3996757  0.39579117]\n",
            "\n",
            "17 day output [[0.3918229]]\n",
            "\n",
            "\n",
            "18 day input \n",
            "[0.7371134  0.73644106 0.7218736  0.73935455 0.74831914 0.78507396\n",
            " 0.75974899 0.77409234 0.73688929 0.70909906 0.69722098 0.71470193\n",
            " 0.72545944 0.73823398 0.73038996 0.72299417 0.74719857 0.72523532\n",
            " 0.7994173  0.78283281 0.75571493 0.73352757 0.77364411 0.77140296\n",
            " 0.7492156  0.72859704 0.70035858 0.63021067 0.65105334 0.60959211\n",
            " 0.58471537 0.609368   0.63043478 0.64388167 0.6017481  0.61160914\n",
            " 0.62572837 0.62550426 0.64657104 0.59614523 0.59524877 0.59166293\n",
            " 0.61340206 0.6048857  0.59928283 0.60354101 0.58673241 0.5912147\n",
            " 0.60466159 0.61272972 0.62909009 0.63872703 0.61810847 0.59524877\n",
            " 0.57530255 0.60242044 0.58583595 0.5912147  0.59771403 0.59009413\n",
            " 0.60085164 0.5425818  0.53675482 0.53070372 0.53922008 0.5349619\n",
            " 0.50806813 0.53787539 0.58852532 0.60040341 0.59345585 0.59278351\n",
            " 0.59143882 0.58561183 0.59816226 0.58987001 0.58538772 0.58762887\n",
            " 0.57485433 0.56006275 0.51792918 0.47758853 0.50425818 0.48423368\n",
            " 0.48652008 0.48247617 0.47573856 0.46684787 0.4566631  0.44629622\n",
            " 0.4366914  0.4284026  0.4215683  0.41601166 0.41138774 0.40731815\n",
            " 0.40348479 0.3996757  0.39579117 0.3918229 ]\n",
            "\n",
            "18 day output [[0.3878173]]\n",
            "\n",
            "\n",
            "19 day input \n",
            "[0.73644106 0.7218736  0.73935455 0.74831914 0.78507396 0.75974899\n",
            " 0.77409234 0.73688929 0.70909906 0.69722098 0.71470193 0.72545944\n",
            " 0.73823398 0.73038996 0.72299417 0.74719857 0.72523532 0.7994173\n",
            " 0.78283281 0.75571493 0.73352757 0.77364411 0.77140296 0.7492156\n",
            " 0.72859704 0.70035858 0.63021067 0.65105334 0.60959211 0.58471537\n",
            " 0.609368   0.63043478 0.64388167 0.6017481  0.61160914 0.62572837\n",
            " 0.62550426 0.64657104 0.59614523 0.59524877 0.59166293 0.61340206\n",
            " 0.6048857  0.59928283 0.60354101 0.58673241 0.5912147  0.60466159\n",
            " 0.61272972 0.62909009 0.63872703 0.61810847 0.59524877 0.57530255\n",
            " 0.60242044 0.58583595 0.5912147  0.59771403 0.59009413 0.60085164\n",
            " 0.5425818  0.53675482 0.53070372 0.53922008 0.5349619  0.50806813\n",
            " 0.53787539 0.58852532 0.60040341 0.59345585 0.59278351 0.59143882\n",
            " 0.58561183 0.59816226 0.58987001 0.58538772 0.58762887 0.57485433\n",
            " 0.56006275 0.51792918 0.47758853 0.50425818 0.48423368 0.48652008\n",
            " 0.48247617 0.47573856 0.46684787 0.4566631  0.44629622 0.4366914\n",
            " 0.4284026  0.4215683  0.41601166 0.41138774 0.40731815 0.40348479\n",
            " 0.3996757  0.39579117 0.3918229  0.38781729]\n",
            "\n",
            "19 day output [[0.38384083]]\n",
            "\n",
            "\n",
            "20 day input \n",
            "[0.7218736  0.73935455 0.74831914 0.78507396 0.75974899 0.77409234\n",
            " 0.73688929 0.70909906 0.69722098 0.71470193 0.72545944 0.73823398\n",
            " 0.73038996 0.72299417 0.74719857 0.72523532 0.7994173  0.78283281\n",
            " 0.75571493 0.73352757 0.77364411 0.77140296 0.7492156  0.72859704\n",
            " 0.70035858 0.63021067 0.65105334 0.60959211 0.58471537 0.609368\n",
            " 0.63043478 0.64388167 0.6017481  0.61160914 0.62572837 0.62550426\n",
            " 0.64657104 0.59614523 0.59524877 0.59166293 0.61340206 0.6048857\n",
            " 0.59928283 0.60354101 0.58673241 0.5912147  0.60466159 0.61272972\n",
            " 0.62909009 0.63872703 0.61810847 0.59524877 0.57530255 0.60242044\n",
            " 0.58583595 0.5912147  0.59771403 0.59009413 0.60085164 0.5425818\n",
            " 0.53675482 0.53070372 0.53922008 0.5349619  0.50806813 0.53787539\n",
            " 0.58852532 0.60040341 0.59345585 0.59278351 0.59143882 0.58561183\n",
            " 0.59816226 0.58987001 0.58538772 0.58762887 0.57485433 0.56006275\n",
            " 0.51792918 0.47758853 0.50425818 0.48423368 0.48652008 0.48247617\n",
            " 0.47573856 0.46684787 0.4566631  0.44629622 0.4366914  0.4284026\n",
            " 0.4215683  0.41601166 0.41138774 0.40731815 0.40348479 0.3996757\n",
            " 0.39579117 0.3918229  0.38781729 0.38384083]\n",
            "\n",
            "20 day output [[0.3799504]]\n",
            "\n",
            "\n",
            "21 day input \n",
            "[0.73935455 0.74831914 0.78507396 0.75974899 0.77409234 0.73688929\n",
            " 0.70909906 0.69722098 0.71470193 0.72545944 0.73823398 0.73038996\n",
            " 0.72299417 0.74719857 0.72523532 0.7994173  0.78283281 0.75571493\n",
            " 0.73352757 0.77364411 0.77140296 0.7492156  0.72859704 0.70035858\n",
            " 0.63021067 0.65105334 0.60959211 0.58471537 0.609368   0.63043478\n",
            " 0.64388167 0.6017481  0.61160914 0.62572837 0.62550426 0.64657104\n",
            " 0.59614523 0.59524877 0.59166293 0.61340206 0.6048857  0.59928283\n",
            " 0.60354101 0.58673241 0.5912147  0.60466159 0.61272972 0.62909009\n",
            " 0.63872703 0.61810847 0.59524877 0.57530255 0.60242044 0.58583595\n",
            " 0.5912147  0.59771403 0.59009413 0.60085164 0.5425818  0.53675482\n",
            " 0.53070372 0.53922008 0.5349619  0.50806813 0.53787539 0.58852532\n",
            " 0.60040341 0.59345585 0.59278351 0.59143882 0.58561183 0.59816226\n",
            " 0.58987001 0.58538772 0.58762887 0.57485433 0.56006275 0.51792918\n",
            " 0.47758853 0.50425818 0.48423368 0.48652008 0.48247617 0.47573856\n",
            " 0.46684787 0.4566631  0.44629622 0.4366914  0.4284026  0.4215683\n",
            " 0.41601166 0.41138774 0.40731815 0.40348479 0.3996757  0.39579117\n",
            " 0.3918229  0.38781729 0.38384083 0.3799504 ]\n",
            "\n",
            "21 day output [[0.37617707]]\n",
            "\n",
            "\n",
            "22 day input \n",
            "[0.74831914 0.78507396 0.75974899 0.77409234 0.73688929 0.70909906\n",
            " 0.69722098 0.71470193 0.72545944 0.73823398 0.73038996 0.72299417\n",
            " 0.74719857 0.72523532 0.7994173  0.78283281 0.75571493 0.73352757\n",
            " 0.77364411 0.77140296 0.7492156  0.72859704 0.70035858 0.63021067\n",
            " 0.65105334 0.60959211 0.58471537 0.609368   0.63043478 0.64388167\n",
            " 0.6017481  0.61160914 0.62572837 0.62550426 0.64657104 0.59614523\n",
            " 0.59524877 0.59166293 0.61340206 0.6048857  0.59928283 0.60354101\n",
            " 0.58673241 0.5912147  0.60466159 0.61272972 0.62909009 0.63872703\n",
            " 0.61810847 0.59524877 0.57530255 0.60242044 0.58583595 0.5912147\n",
            " 0.59771403 0.59009413 0.60085164 0.5425818  0.53675482 0.53070372\n",
            " 0.53922008 0.5349619  0.50806813 0.53787539 0.58852532 0.60040341\n",
            " 0.59345585 0.59278351 0.59143882 0.58561183 0.59816226 0.58987001\n",
            " 0.58538772 0.58762887 0.57485433 0.56006275 0.51792918 0.47758853\n",
            " 0.50425818 0.48423368 0.48652008 0.48247617 0.47573856 0.46684787\n",
            " 0.4566631  0.44629622 0.4366914  0.4284026  0.4215683  0.41601166\n",
            " 0.41138774 0.40731815 0.40348479 0.3996757  0.39579117 0.3918229\n",
            " 0.38781729 0.38384083 0.3799504  0.37617707]\n",
            "\n",
            "22 day output [[0.37252274]]\n",
            "\n",
            "\n",
            "23 day input \n",
            "[0.78507396 0.75974899 0.77409234 0.73688929 0.70909906 0.69722098\n",
            " 0.71470193 0.72545944 0.73823398 0.73038996 0.72299417 0.74719857\n",
            " 0.72523532 0.7994173  0.78283281 0.75571493 0.73352757 0.77364411\n",
            " 0.77140296 0.7492156  0.72859704 0.70035858 0.63021067 0.65105334\n",
            " 0.60959211 0.58471537 0.609368   0.63043478 0.64388167 0.6017481\n",
            " 0.61160914 0.62572837 0.62550426 0.64657104 0.59614523 0.59524877\n",
            " 0.59166293 0.61340206 0.6048857  0.59928283 0.60354101 0.58673241\n",
            " 0.5912147  0.60466159 0.61272972 0.62909009 0.63872703 0.61810847\n",
            " 0.59524877 0.57530255 0.60242044 0.58583595 0.5912147  0.59771403\n",
            " 0.59009413 0.60085164 0.5425818  0.53675482 0.53070372 0.53922008\n",
            " 0.5349619  0.50806813 0.53787539 0.58852532 0.60040341 0.59345585\n",
            " 0.59278351 0.59143882 0.58561183 0.59816226 0.58987001 0.58538772\n",
            " 0.58762887 0.57485433 0.56006275 0.51792918 0.47758853 0.50425818\n",
            " 0.48423368 0.48652008 0.48247617 0.47573856 0.46684787 0.4566631\n",
            " 0.44629622 0.4366914  0.4284026  0.4215683  0.41601166 0.41138774\n",
            " 0.40731815 0.40348479 0.3996757  0.39579117 0.3918229  0.38781729\n",
            " 0.38384083 0.3799504  0.37617707 0.37252274]\n",
            "\n",
            "23 day output [[0.3689637]]\n",
            "\n",
            "\n",
            "24 day input \n",
            "[0.75974899 0.77409234 0.73688929 0.70909906 0.69722098 0.71470193\n",
            " 0.72545944 0.73823398 0.73038996 0.72299417 0.74719857 0.72523532\n",
            " 0.7994173  0.78283281 0.75571493 0.73352757 0.77364411 0.77140296\n",
            " 0.7492156  0.72859704 0.70035858 0.63021067 0.65105334 0.60959211\n",
            " 0.58471537 0.609368   0.63043478 0.64388167 0.6017481  0.61160914\n",
            " 0.62572837 0.62550426 0.64657104 0.59614523 0.59524877 0.59166293\n",
            " 0.61340206 0.6048857  0.59928283 0.60354101 0.58673241 0.5912147\n",
            " 0.60466159 0.61272972 0.62909009 0.63872703 0.61810847 0.59524877\n",
            " 0.57530255 0.60242044 0.58583595 0.5912147  0.59771403 0.59009413\n",
            " 0.60085164 0.5425818  0.53675482 0.53070372 0.53922008 0.5349619\n",
            " 0.50806813 0.53787539 0.58852532 0.60040341 0.59345585 0.59278351\n",
            " 0.59143882 0.58561183 0.59816226 0.58987001 0.58538772 0.58762887\n",
            " 0.57485433 0.56006275 0.51792918 0.47758853 0.50425818 0.48423368\n",
            " 0.48652008 0.48247617 0.47573856 0.46684787 0.4566631  0.44629622\n",
            " 0.4366914  0.4284026  0.4215683  0.41601166 0.41138774 0.40731815\n",
            " 0.40348479 0.3996757  0.39579117 0.3918229  0.38781729 0.38384083\n",
            " 0.3799504  0.37617707 0.37252274 0.36896369]\n",
            "\n",
            "24 day output [[0.36546206]]\n",
            "\n",
            "\n",
            "25 day input \n",
            "[0.77409234 0.73688929 0.70909906 0.69722098 0.71470193 0.72545944\n",
            " 0.73823398 0.73038996 0.72299417 0.74719857 0.72523532 0.7994173\n",
            " 0.78283281 0.75571493 0.73352757 0.77364411 0.77140296 0.7492156\n",
            " 0.72859704 0.70035858 0.63021067 0.65105334 0.60959211 0.58471537\n",
            " 0.609368   0.63043478 0.64388167 0.6017481  0.61160914 0.62572837\n",
            " 0.62550426 0.64657104 0.59614523 0.59524877 0.59166293 0.61340206\n",
            " 0.6048857  0.59928283 0.60354101 0.58673241 0.5912147  0.60466159\n",
            " 0.61272972 0.62909009 0.63872703 0.61810847 0.59524877 0.57530255\n",
            " 0.60242044 0.58583595 0.5912147  0.59771403 0.59009413 0.60085164\n",
            " 0.5425818  0.53675482 0.53070372 0.53922008 0.5349619  0.50806813\n",
            " 0.53787539 0.58852532 0.60040341 0.59345585 0.59278351 0.59143882\n",
            " 0.58561183 0.59816226 0.58987001 0.58538772 0.58762887 0.57485433\n",
            " 0.56006275 0.51792918 0.47758853 0.50425818 0.48423368 0.48652008\n",
            " 0.48247617 0.47573856 0.46684787 0.4566631  0.44629622 0.4366914\n",
            " 0.4284026  0.4215683  0.41601166 0.41138774 0.40731815 0.40348479\n",
            " 0.3996757  0.39579117 0.3918229  0.38781729 0.38384083 0.3799504\n",
            " 0.37617707 0.37252274 0.36896369 0.36546206]\n",
            "\n",
            "25 day output [[0.3619753]]\n",
            "\n",
            "\n",
            "26 day input \n",
            "[0.73688929 0.70909906 0.69722098 0.71470193 0.72545944 0.73823398\n",
            " 0.73038996 0.72299417 0.74719857 0.72523532 0.7994173  0.78283281\n",
            " 0.75571493 0.73352757 0.77364411 0.77140296 0.7492156  0.72859704\n",
            " 0.70035858 0.63021067 0.65105334 0.60959211 0.58471537 0.609368\n",
            " 0.63043478 0.64388167 0.6017481  0.61160914 0.62572837 0.62550426\n",
            " 0.64657104 0.59614523 0.59524877 0.59166293 0.61340206 0.6048857\n",
            " 0.59928283 0.60354101 0.58673241 0.5912147  0.60466159 0.61272972\n",
            " 0.62909009 0.63872703 0.61810847 0.59524877 0.57530255 0.60242044\n",
            " 0.58583595 0.5912147  0.59771403 0.59009413 0.60085164 0.5425818\n",
            " 0.53675482 0.53070372 0.53922008 0.5349619  0.50806813 0.53787539\n",
            " 0.58852532 0.60040341 0.59345585 0.59278351 0.59143882 0.58561183\n",
            " 0.59816226 0.58987001 0.58538772 0.58762887 0.57485433 0.56006275\n",
            " 0.51792918 0.47758853 0.50425818 0.48423368 0.48652008 0.48247617\n",
            " 0.47573856 0.46684787 0.4566631  0.44629622 0.4366914  0.4284026\n",
            " 0.4215683  0.41601166 0.41138774 0.40731815 0.40348479 0.3996757\n",
            " 0.39579117 0.3918229  0.38781729 0.38384083 0.3799504  0.37617707\n",
            " 0.37252274 0.36896369 0.36546206 0.36197531]\n",
            "\n",
            "26 day output [[0.3584657]]\n",
            "\n",
            "\n",
            "27 day input \n",
            "[0.70909906 0.69722098 0.71470193 0.72545944 0.73823398 0.73038996\n",
            " 0.72299417 0.74719857 0.72523532 0.7994173  0.78283281 0.75571493\n",
            " 0.73352757 0.77364411 0.77140296 0.7492156  0.72859704 0.70035858\n",
            " 0.63021067 0.65105334 0.60959211 0.58471537 0.609368   0.63043478\n",
            " 0.64388167 0.6017481  0.61160914 0.62572837 0.62550426 0.64657104\n",
            " 0.59614523 0.59524877 0.59166293 0.61340206 0.6048857  0.59928283\n",
            " 0.60354101 0.58673241 0.5912147  0.60466159 0.61272972 0.62909009\n",
            " 0.63872703 0.61810847 0.59524877 0.57530255 0.60242044 0.58583595\n",
            " 0.5912147  0.59771403 0.59009413 0.60085164 0.5425818  0.53675482\n",
            " 0.53070372 0.53922008 0.5349619  0.50806813 0.53787539 0.58852532\n",
            " 0.60040341 0.59345585 0.59278351 0.59143882 0.58561183 0.59816226\n",
            " 0.58987001 0.58538772 0.58762887 0.57485433 0.56006275 0.51792918\n",
            " 0.47758853 0.50425818 0.48423368 0.48652008 0.48247617 0.47573856\n",
            " 0.46684787 0.4566631  0.44629622 0.4366914  0.4284026  0.4215683\n",
            " 0.41601166 0.41138774 0.40731815 0.40348479 0.3996757  0.39579117\n",
            " 0.3918229  0.38781729 0.38384083 0.3799504  0.37617707 0.37252274\n",
            " 0.36896369 0.36546206 0.36197531 0.3584657 ]\n",
            "\n",
            "27 day output [[0.35490593]]\n",
            "\n",
            "\n",
            "28 day input \n",
            "[0.69722098 0.71470193 0.72545944 0.73823398 0.73038996 0.72299417\n",
            " 0.74719857 0.72523532 0.7994173  0.78283281 0.75571493 0.73352757\n",
            " 0.77364411 0.77140296 0.7492156  0.72859704 0.70035858 0.63021067\n",
            " 0.65105334 0.60959211 0.58471537 0.609368   0.63043478 0.64388167\n",
            " 0.6017481  0.61160914 0.62572837 0.62550426 0.64657104 0.59614523\n",
            " 0.59524877 0.59166293 0.61340206 0.6048857  0.59928283 0.60354101\n",
            " 0.58673241 0.5912147  0.60466159 0.61272972 0.62909009 0.63872703\n",
            " 0.61810847 0.59524877 0.57530255 0.60242044 0.58583595 0.5912147\n",
            " 0.59771403 0.59009413 0.60085164 0.5425818  0.53675482 0.53070372\n",
            " 0.53922008 0.5349619  0.50806813 0.53787539 0.58852532 0.60040341\n",
            " 0.59345585 0.59278351 0.59143882 0.58561183 0.59816226 0.58987001\n",
            " 0.58538772 0.58762887 0.57485433 0.56006275 0.51792918 0.47758853\n",
            " 0.50425818 0.48423368 0.48652008 0.48247617 0.47573856 0.46684787\n",
            " 0.4566631  0.44629622 0.4366914  0.4284026  0.4215683  0.41601166\n",
            " 0.41138774 0.40731815 0.40348479 0.3996757  0.39579117 0.3918229\n",
            " 0.38781729 0.38384083 0.3799504  0.37617707 0.37252274 0.36896369\n",
            " 0.36546206 0.36197531 0.3584657  0.35490593]\n",
            "\n",
            "28 day output [[0.35128075]]\n",
            "\n",
            "\n",
            "29 day input \n",
            "[0.71470193 0.72545944 0.73823398 0.73038996 0.72299417 0.74719857\n",
            " 0.72523532 0.7994173  0.78283281 0.75571493 0.73352757 0.77364411\n",
            " 0.77140296 0.7492156  0.72859704 0.70035858 0.63021067 0.65105334\n",
            " 0.60959211 0.58471537 0.609368   0.63043478 0.64388167 0.6017481\n",
            " 0.61160914 0.62572837 0.62550426 0.64657104 0.59614523 0.59524877\n",
            " 0.59166293 0.61340206 0.6048857  0.59928283 0.60354101 0.58673241\n",
            " 0.5912147  0.60466159 0.61272972 0.62909009 0.63872703 0.61810847\n",
            " 0.59524877 0.57530255 0.60242044 0.58583595 0.5912147  0.59771403\n",
            " 0.59009413 0.60085164 0.5425818  0.53675482 0.53070372 0.53922008\n",
            " 0.5349619  0.50806813 0.53787539 0.58852532 0.60040341 0.59345585\n",
            " 0.59278351 0.59143882 0.58561183 0.59816226 0.58987001 0.58538772\n",
            " 0.58762887 0.57485433 0.56006275 0.51792918 0.47758853 0.50425818\n",
            " 0.48423368 0.48652008 0.48247617 0.47573856 0.46684787 0.4566631\n",
            " 0.44629622 0.4366914  0.4284026  0.4215683  0.41601166 0.41138774\n",
            " 0.40731815 0.40348479 0.3996757  0.39579117 0.3918229  0.38781729\n",
            " 0.38384083 0.3799504  0.37617707 0.37252274 0.36896369 0.36546206\n",
            " 0.36197531 0.3584657  0.35490593 0.35128075]\n",
            "\n",
            "29 day output [[0.34758624]]\n",
            "\n",
            "\n",
            "30 day input \n",
            "[0.72545944 0.73823398 0.73038996 0.72299417 0.74719857 0.72523532\n",
            " 0.7994173  0.78283281 0.75571493 0.73352757 0.77364411 0.77140296\n",
            " 0.7492156  0.72859704 0.70035858 0.63021067 0.65105334 0.60959211\n",
            " 0.58471537 0.609368   0.63043478 0.64388167 0.6017481  0.61160914\n",
            " 0.62572837 0.62550426 0.64657104 0.59614523 0.59524877 0.59166293\n",
            " 0.61340206 0.6048857  0.59928283 0.60354101 0.58673241 0.5912147\n",
            " 0.60466159 0.61272972 0.62909009 0.63872703 0.61810847 0.59524877\n",
            " 0.57530255 0.60242044 0.58583595 0.5912147  0.59771403 0.59009413\n",
            " 0.60085164 0.5425818  0.53675482 0.53070372 0.53922008 0.5349619\n",
            " 0.50806813 0.53787539 0.58852532 0.60040341 0.59345585 0.59278351\n",
            " 0.59143882 0.58561183 0.59816226 0.58987001 0.58538772 0.58762887\n",
            " 0.57485433 0.56006275 0.51792918 0.47758853 0.50425818 0.48423368\n",
            " 0.48652008 0.48247617 0.47573856 0.46684787 0.4566631  0.44629622\n",
            " 0.4366914  0.4284026  0.4215683  0.41601166 0.41138774 0.40731815\n",
            " 0.40348479 0.3996757  0.39579117 0.3918229  0.38781729 0.38384083\n",
            " 0.3799504  0.37617707 0.37252274 0.36896369 0.36546206 0.36197531\n",
            " 0.3584657  0.35490593 0.35128075 0.34758624]\n",
            "\n",
            "30 day output [[0.34382743]]\n",
            "\n",
            "\n"
          ]
        }
      ]
    },
    {
      "cell_type": "code",
      "source": [
        "print(lst_output)"
      ],
      "metadata": {
        "colab": {
          "base_uri": "https://localhost:8080/"
        },
        "id": "IDLuj4DT4x5q",
        "outputId": "1d3bba05-7132-4366-bf55-69cc57d157f9"
      },
      "execution_count": 82,
      "outputs": [
        {
          "output_type": "stream",
          "name": "stdout",
          "text": [
            "[[0.48423367738723755], [0.48652008175849915], [0.4824761748313904], [0.4757385551929474], [0.46684786677360535], [0.4566631019115448], [0.44629621505737305], [0.43669140338897705], [0.4284026026725769], [0.4215683043003082], [0.41601166129112244], [0.41138774156570435], [0.4073181450366974], [0.4034847915172577], [0.3996756970882416], [0.3957911729812622], [0.3918229043483734], [0.38781729340553284], [0.3838408291339874], [0.3799504041671753], [0.3761770725250244], [0.3725227415561676], [0.36896368861198425], [0.365462064743042], [0.3619753122329712], [0.35846570134162903], [0.3549059331417084], [0.35128074884414673], [0.3475862443447113], [0.34382742643356323]]\n"
          ]
        }
      ]
    },
    {
      "cell_type": "code",
      "source": [
        "print(\"The output for the upcoming 30 days is :\")\n",
        "print(scaler.inverse_transform(lst_output))"
      ],
      "metadata": {
        "colab": {
          "base_uri": "https://localhost:8080/"
        },
        "id": "3OPt55n17qee",
        "outputId": "b92beab6-54c7-43d1-bd92-9886239c8e3d"
      },
      "execution_count": 83,
      "outputs": [
        {
          "output_type": "stream",
          "name": "stdout",
          "text": [
            "The output for the upcoming 30 days is :\n",
            "[[210.68253343]\n",
            " [211.19263024]\n",
            " [210.2904346 ]\n",
            " [208.78727166]\n",
            " [206.80375908]\n",
            " [204.53153804]\n",
            " [202.21868558]\n",
            " [200.0758521 ]\n",
            " [198.22662066]\n",
            " [196.70188869]\n",
            " [195.46220163]\n",
            " [194.43060514]\n",
            " [193.52267816]\n",
            " [192.66745699]\n",
            " [191.81764802]\n",
            " [190.95101069]\n",
            " [190.06568996]\n",
            " [189.17203816]\n",
            " [188.28488898]\n",
            " [187.41693517]\n",
            " [186.57510488]\n",
            " [185.75982364]\n",
            " [184.96579893]\n",
            " [184.18458664]\n",
            " [183.40669216]\n",
            " [182.62369797]\n",
            " [181.82951368]\n",
            " [181.02073507]\n",
            " [180.19649111]\n",
            " [179.35789884]]\n"
          ]
        }
      ]
    },
    {
      "cell_type": "markdown",
      "source": [
        "### Plotting the Future Stock Prices for the following 30 Days"
      ],
      "metadata": {
        "id": "Ko2hdcLu64m7"
      }
    },
    {
      "cell_type": "code",
      "source": [
        "day_new=np.arange(1,101)\n",
        "day_pred=np.arange(101,131)"
      ],
      "metadata": {
        "id": "KWjt2JaD6m0B"
      },
      "execution_count": 84,
      "outputs": []
    },
    {
      "cell_type": "code",
      "source": [
        "len(df1)"
      ],
      "metadata": {
        "colab": {
          "base_uri": "https://localhost:8080/"
        },
        "id": "5y-CnIpg6nAE",
        "outputId": "c72dfc47-4fe8-425b-f451-7a10058215b9"
      },
      "execution_count": 85,
      "outputs": [
        {
          "output_type": "execute_result",
          "data": {
            "text/plain": [
              "1235"
            ]
          },
          "metadata": {},
          "execution_count": 85
        }
      ]
    },
    {
      "cell_type": "code",
      "source": [
        "plt.plot(day_new,scaler.inverse_transform(df1[1135:]))\n",
        "plt.plot(day_pred,scaler.inverse_transform(lst_output))"
      ],
      "metadata": {
        "colab": {
          "base_uri": "https://localhost:8080/",
          "height": 282
        },
        "id": "0cAkEukh7YTX",
        "outputId": "ae34edff-4dea-48f8-915d-105defae21ef"
      },
      "execution_count": 86,
      "outputs": [
        {
          "output_type": "execute_result",
          "data": {
            "text/plain": [
              "[<matplotlib.lines.Line2D at 0x7f88aa9e3990>]"
            ]
          },
          "metadata": {},
          "execution_count": 86
        },
        {
          "output_type": "display_data",
          "data": {
            "text/plain": [
              "<Figure size 432x288 with 1 Axes>"
            ],
            "image/png": "[encoded data removed]"
          },
          "metadata": {
            "needs_background": "light"
          }
        }
      ]
    },
    {
      "cell_type": "markdown",
      "source": [
        "> Blue Graph - Stock Price of Last 100 days of the given Dataset\n",
        "\n",
        "> Orange Graph - Future Stock Prices of the following 30 days"
      ],
      "metadata": {
        "id": "hDIlA8UP96HM"
      }
    },
    {
      "cell_type": "markdown",
      "source": [
        "### Final Predicted Future Trend of Stock Prices"
      ],
      "metadata": {
        "id": "0ZrDglib-QQA"
      }
    },
    {
      "cell_type": "code",
      "source": [
        "df3=df1.tolist()\n",
        "df3.extend(lst_output)\n",
        "plt.plot(df3[1200:])"
      ],
      "metadata": {
        "colab": {
          "base_uri": "https://localhost:8080/",
          "height": 284
        },
        "id": "e-iijeJC9gfb",
        "outputId": "b42b007b-1697-4827-9897-c79608c58d85"
      },
      "execution_count": 87,
      "outputs": [
        {
          "output_type": "execute_result",
          "data": {
            "text/plain": [
              "[<matplotlib.lines.Line2D at 0x7f88aa9fd110>]"
            ]
          },
          "metadata": {},
          "execution_count": 87
        },
        {
          "output_type": "display_data",
          "data": {
            "text/plain": [
              "<Figure size 432x288 with 1 Axes>"
            ],
            "image/png": "[encoded data removed]"
          },
          "metadata": {
            "needs_background": "light"
          }
        }
      ]
    }
  ]
}